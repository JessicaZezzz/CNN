{
  "cells": [
    {
      "cell_type": "markdown",
      "metadata": {
        "id": "view-in-github",
        "colab_type": "text"
      },
      "source": [
        "<a href=\"https://colab.research.google.com/github/JessicaZezzz/CNN/blob/main/mobilenetv2.ipynb\" target=\"_parent\"><img src=\"https://colab.research.google.com/assets/colab-badge.svg\" alt=\"Open In Colab\"/></a>"
      ]
    },
    {
      "cell_type": "code",
      "execution_count": null,
      "metadata": {
        "id": "l-WdJiBIEz96"
      },
      "outputs": [],
      "source": [
        "import numpy as np\n",
        "import pandas as pd\n",
        "import matplotlib.pyplot as plt\n",
        "import seaborn as sn\n",
        "import skimage.io\n",
        "import os \n",
        "import tqdm\n",
        "import glob\n",
        "import tensorflow \n",
        "\n",
        "from tqdm import tqdm\n",
        "from sklearn.utils import shuffle\n",
        "from sklearn import metrics\n",
        "from sklearn.metrics import confusion_matrix, classification_report\n",
        "from sklearn.model_selection import train_test_split\n",
        "\n",
        "from skimage.io import imread, imshow\n",
        "from skimage.transform import resize\n",
        "from skimage.color import grey2rgb\n",
        "import tensorflow as tf\n",
        "from tensorflow.keras.preprocessing.image import ImageDataGenerator\n",
        "from tensorflow.keras.preprocessing import image_dataset_from_directory\n",
        "from tensorflow.keras.models import Sequential\n",
        "from tensorflow.keras.layers import InputLayer, BatchNormalization, Dropout, Flatten, Dense, Activation, MaxPool2D, Conv2D\n",
        "from tensorflow.keras.callbacks import EarlyStopping, ModelCheckpoint\n",
        "from tensorflow.keras.applications.resnet50 import ResNet50\n",
        "from tensorflow.keras.utils import to_categorical\n",
        "from keras import optimizers\n",
        "\n",
        "from keras.callbacks import Callback,ModelCheckpoint\n",
        "from keras.models import Sequential,load_model\n",
        "from keras.layers import Dense, Dropout\n",
        "from keras.wrappers.scikit_learn import KerasClassifier\n",
        "import keras.backend as K\n",
        "from typeguard import typechecked\n",
        "from typing import Optional"
      ]
    },
    {
      "cell_type": "code",
      "execution_count": null,
      "metadata": {
        "colab": {
          "base_uri": "https://localhost:8080/"
        },
        "id": "BgQQxhe-FB3Q",
        "outputId": "1cdb4a15-2321-4d03-abe3-d5cb9c1084f5"
      },
      "outputs": [
        {
          "output_type": "stream",
          "name": "stdout",
          "text": [
            "Mounted at /content/drive/\n"
          ]
        }
      ],
      "source": [
        "from google.colab import drive\n",
        "drive.mount(\"/content/drive/\")"
      ]
    },
    {
      "cell_type": "code",
      "source": [
        "AUTOTUNE = tf.data.experimental.AUTOTUNE"
      ],
      "metadata": {
        "id": "G-pJTGp3xM-m"
      },
      "execution_count": null,
      "outputs": []
    },
    {
      "cell_type": "code",
      "source": [
        "train_datagen = ImageDataGenerator(rescale = 1./255,\n",
        "                                   validation_split = 0.2,\n",
        "                                  \n",
        "        rotation_range=5,\n",
        "        width_shift_range=0.2,\n",
        "        height_shift_range=0.2,\n",
        "        shear_range=0.2,\n",
        "        #zoom_range=0.2,\n",
        "        horizontal_flip=True,\n",
        "        vertical_flip=True,\n",
        "        fill_mode='nearest')\n",
        "\n",
        "valid_datagen = ImageDataGenerator(rescale = 1./255,\n",
        "                                  validation_split = 0.2)\n",
        "\n",
        "test_datagen  = ImageDataGenerator(rescale = 1./255)"
      ],
      "metadata": {
        "id": "p1cK2dE1xRqt"
      },
      "execution_count": null,
      "outputs": []
    },
    {
      "cell_type": "code",
      "source": [
        "train_dataset  = train_datagen.flow_from_directory(directory = '/content/drive/MyDrive/Dataset/train',\n",
        "                                                   target_size = (128,128),\n",
        "                                                   class_mode = 'categorical',\n",
        "                                                   subset = 'training',\n",
        "                                                   batch_size = 32)"
      ],
      "metadata": {
        "colab": {
          "base_uri": "https://localhost:8080/"
        },
        "id": "Pvi5I5JzxVyP",
        "outputId": "4702cab3-f8da-4c59-cd24-22c06a835ec8"
      },
      "execution_count": null,
      "outputs": [
        {
          "output_type": "stream",
          "name": "stdout",
          "text": [
            "Found 4098 images belonging to 4 classes.\n"
          ]
        }
      ]
    },
    {
      "cell_type": "code",
      "source": [
        "valid_dataset = valid_datagen.flow_from_directory(directory = '/content/drive/MyDrive/Dataset/train',\n",
        "                                                  target_size = (128,128),\n",
        "                                                  class_mode = 'categorical',\n",
        "                                                  subset = 'validation',\n",
        "                                                  batch_size = 32)"
      ],
      "metadata": {
        "colab": {
          "base_uri": "https://localhost:8080/"
        },
        "id": "ApIS3_y6xbnG",
        "outputId": "2f856df3-1aeb-4431-ff63-798d19eea5fb"
      },
      "execution_count": null,
      "outputs": [
        {
          "output_type": "stream",
          "name": "stdout",
          "text": [
            "Found 1023 images belonging to 4 classes.\n"
          ]
        }
      ]
    },
    {
      "cell_type": "code",
      "source": [
        "test_dataset = test_datagen.flow_from_directory(directory = '/content/drive/MyDrive/Dataset/test',\n",
        "                                                  target_size = (128,128),\n",
        "                                                  class_mode = 'categorical',\n",
        "                                                  batch_size = 32)"
      ],
      "metadata": {
        "colab": {
          "base_uri": "https://localhost:8080/"
        },
        "id": "7wTjWAtixikb",
        "outputId": "8d2b15dc-ad6a-40e5-974a-c52d0b8d5dc2"
      },
      "execution_count": null,
      "outputs": [
        {
          "output_type": "stream",
          "name": "stdout",
          "text": [
            "Found 1279 images belonging to 4 classes.\n"
          ]
        }
      ]
    },
    {
      "cell_type": "code",
      "source": [
        "base_model = tf.keras.applications.mobilenet_v2.MobileNetV2(\n",
        "                   input_shape=(128,128,3), \n",
        "                   include_top=False,\n",
        "                   weights=\"imagenet\"\n",
        ")"
      ],
      "metadata": {
        "id": "cb_V_3VoqYhK",
        "colab": {
          "base_uri": "https://localhost:8080/"
        },
        "outputId": "6149af7e-6881-4439-be1e-730d76cccdf7"
      },
      "execution_count": null,
      "outputs": [
        {
          "output_type": "stream",
          "name": "stdout",
          "text": [
            "Downloading data from https://storage.googleapis.com/tensorflow/keras-applications/mobilenet_v2/mobilenet_v2_weights_tf_dim_ordering_tf_kernels_1.0_128_no_top.h5\n",
            "9412608/9406464 [==============================] - 0s 0us/step\n",
            "9420800/9406464 [==============================] - 0s 0us/step\n"
          ]
        }
      ]
    },
    {
      "cell_type": "code",
      "source": [
        "for layer in base_model.layers:\n",
        "    layer.trainable=False"
      ],
      "metadata": {
        "id": "U9rIS6b-xln6"
      },
      "execution_count": null,
      "outputs": []
    },
    {
      "cell_type": "code",
      "source": [
        "model=Sequential()\n",
        "model.add(base_model)\n",
        "model.add(Dropout(0.5))\n",
        "model.add(Flatten())\n",
        "model.add(BatchNormalization())\n",
        "model.add(Dense(32,kernel_initializer='he_uniform'))\n",
        "model.add(BatchNormalization())\n",
        "model.add(Activation('relu'))\n",
        "model.add(Dropout(0.5))\n",
        "model.add(Dense(32,kernel_initializer='he_uniform'))\n",
        "model.add(BatchNormalization())\n",
        "model.add(Activation('relu'))\n",
        "model.add(Dropout(0.5))\n",
        "model.add(Dense(32,kernel_initializer='he_uniform'))\n",
        "model.add(BatchNormalization())\n",
        "model.add(Activation('relu'))\n",
        "model.add(Dense(4,activation='softmax'))"
      ],
      "metadata": {
        "id": "voJuOTGWxm9t"
      },
      "execution_count": null,
      "outputs": []
    },
    {
      "cell_type": "code",
      "source": [
        "model.summary()"
      ],
      "metadata": {
        "colab": {
          "base_uri": "https://localhost:8080/"
        },
        "id": "dq2B_6Y2xu99",
        "outputId": "826165e3-6df9-4b5b-af3a-7ce1b6228938"
      },
      "execution_count": null,
      "outputs": [
        {
          "output_type": "stream",
          "name": "stdout",
          "text": [
            "Model: \"sequential\"\n",
            "_________________________________________________________________\n",
            " Layer (type)                Output Shape              Param #   \n",
            "=================================================================\n",
            " mobilenetv2_1.00_128 (Funct  (None, 4, 4, 1280)       2257984   \n",
            " ional)                                                          \n",
            "                                                                 \n",
            " dropout (Dropout)           (None, 4, 4, 1280)        0         \n",
            "                                                                 \n",
            " flatten (Flatten)           (None, 20480)             0         \n",
            "                                                                 \n",
            " batch_normalization (BatchN  (None, 20480)            81920     \n",
            " ormalization)                                                   \n",
            "                                                                 \n",
            " dense (Dense)               (None, 32)                655392    \n",
            "                                                                 \n",
            " batch_normalization_1 (Batc  (None, 32)               128       \n",
            " hNormalization)                                                 \n",
            "                                                                 \n",
            " activation (Activation)     (None, 32)                0         \n",
            "                                                                 \n",
            " dropout_1 (Dropout)         (None, 32)                0         \n",
            "                                                                 \n",
            " dense_1 (Dense)             (None, 32)                1056      \n",
            "                                                                 \n",
            " batch_normalization_2 (Batc  (None, 32)               128       \n",
            " hNormalization)                                                 \n",
            "                                                                 \n",
            " activation_1 (Activation)   (None, 32)                0         \n",
            "                                                                 \n",
            " dropout_2 (Dropout)         (None, 32)                0         \n",
            "                                                                 \n",
            " dense_2 (Dense)             (None, 32)                1056      \n",
            "                                                                 \n",
            " batch_normalization_3 (Batc  (None, 32)               128       \n",
            " hNormalization)                                                 \n",
            "                                                                 \n",
            " activation_2 (Activation)   (None, 32)                0         \n",
            "                                                                 \n",
            " dense_3 (Dense)             (None, 4)                 132       \n",
            "                                                                 \n",
            "=================================================================\n",
            "Total params: 2,997,924\n",
            "Trainable params: 698,788\n",
            "Non-trainable params: 2,299,136\n",
            "_________________________________________________________________\n"
          ]
        }
      ]
    },
    {
      "cell_type": "code",
      "source": [
        "def f1_score(y_true, y_pred): #taken from old keras source code\n",
        "    true_positives = K.sum(K.round(K.clip(y_true * y_pred, 0, 1)))\n",
        "    possible_positives = K.sum(K.round(K.clip(y_true, 0, 1)))\n",
        "    predicted_positives = K.sum(K.round(K.clip(y_pred, 0, 1)))\n",
        "    precision = true_positives / (predicted_positives + K.epsilon())\n",
        "    recall = true_positives / (possible_positives + K.epsilon())\n",
        "    f1_val = 2*(precision*recall)/(precision+recall+K.epsilon())\n",
        "    return f1_val"
      ],
      "metadata": {
        "id": "917IAAxMxwzH"
      },
      "execution_count": null,
      "outputs": []
    },
    {
      "cell_type": "code",
      "source": [
        "METRICS = [\n",
        "      tf.keras.metrics.BinaryAccuracy(name='accuracy'),\n",
        "      tf.keras.metrics.Precision(name='precision'),\n",
        "      tf.keras.metrics.Recall(name='recall'),  \n",
        "      tf.keras.metrics.AUC(name='auc'),\n",
        "        f1_score,\n",
        "]"
      ],
      "metadata": {
        "id": "DqntcZPoxzaa"
      },
      "execution_count": null,
      "outputs": []
    },
    {
      "cell_type": "code",
      "source": [
        "def exponential_decay(lr0, s):\n",
        "    def exponential_decay_fn(epoch):\n",
        "        return lr0 * 0.005 **(epoch / s)\n",
        "    return exponential_decay_fn\n",
        "\n",
        "exponential_decay_fn = exponential_decay(0.01, 5) # when i run it for 50 epochs\n",
        "\n",
        "lr_scheduler = tf.keras.callbacks.LearningRateScheduler(exponential_decay_fn)"
      ],
      "metadata": {
        "id": "0djGevEPx1JS"
      },
      "execution_count": null,
      "outputs": []
    },
    {
      "cell_type": "code",
      "source": [
        "model.compile(optimizer='rmsprop', loss='categorical_crossentropy',metrics=METRICS)"
      ],
      "metadata": {
        "id": "u_30hCfdx3oW"
      },
      "execution_count": null,
      "outputs": []
    },
    {
      "cell_type": "code",
      "source": [
        "history=model.fit(train_dataset,\n",
        "                        validation_data=valid_dataset,\n",
        "                        epochs = 25,\n",
        "                        verbose = 1,\n",
        "                         callbacks=lr_scheduler)"
      ],
      "metadata": {
        "colab": {
          "base_uri": "https://localhost:8080/"
        },
        "id": "IOZJAWQmx5DT",
        "outputId": "2462d82f-92a6-4e9b-dfff-fbc0d17b65d3"
      },
      "execution_count": null,
      "outputs": [
        {
          "output_type": "stream",
          "name": "stdout",
          "text": [
            "Epoch 1/25\n",
            "129/129 [==============================] - 64s 493ms/step - loss: 0.9263 - accuracy: 0.7994 - precision: 0.6596 - recall: 0.4085 - auc: 0.8385 - f1_score: 0.4995 - val_loss: 1.5342 - val_accuracy: 0.7344 - val_precision: 0.4570 - val_recall: 0.3324 - val_auc: 0.7448 - val_f1_score: 0.3850 - lr: 0.0100\n",
            "Epoch 2/25\n",
            "129/129 [==============================] - 65s 502ms/step - loss: 0.9228 - accuracy: 0.8012 - precision: 0.6706 - recall: 0.4029 - auc: 0.8393 - f1_score: 0.5031 - val_loss: 1.4234 - val_accuracy: 0.7307 - val_precision: 0.4451 - val_recall: 0.3128 - val_auc: 0.7433 - val_f1_score: 0.3657 - lr: 0.0035\n",
            "Epoch 3/25\n",
            "129/129 [==============================] - 64s 494ms/step - loss: 0.9136 - accuracy: 0.8001 - precision: 0.6625 - recall: 0.4090 - auc: 0.8420 - f1_score: 0.5049 - val_loss: 1.3776 - val_accuracy: 0.7319 - val_precision: 0.4476 - val_recall: 0.3089 - val_auc: 0.7417 - val_f1_score: 0.3650 - lr: 0.0012\n",
            "Epoch 4/25\n",
            "129/129 [==============================] - 64s 492ms/step - loss: 0.9190 - accuracy: 0.8041 - precision: 0.6754 - recall: 0.4168 - auc: 0.8422 - f1_score: 0.5154 - val_loss: 1.3739 - val_accuracy: 0.7287 - val_precision: 0.4383 - val_recall: 0.3021 - val_auc: 0.7391 - val_f1_score: 0.3571 - lr: 4.1628e-04\n",
            "Epoch 5/25\n",
            "129/129 [==============================] - 64s 495ms/step - loss: 0.9181 - accuracy: 0.8014 - precision: 0.6645 - recall: 0.4156 - auc: 0.8412 - f1_score: 0.5068 - val_loss: 1.3346 - val_accuracy: 0.7312 - val_precision: 0.4446 - val_recall: 0.3021 - val_auc: 0.7397 - val_f1_score: 0.3589 - lr: 1.4427e-04\n",
            "Epoch 6/25\n",
            "129/129 [==============================] - 66s 512ms/step - loss: 0.9131 - accuracy: 0.8030 - precision: 0.6728 - recall: 0.4129 - auc: 0.8428 - f1_score: 0.5118 - val_loss: 1.3359 - val_accuracy: 0.7297 - val_precision: 0.4406 - val_recall: 0.3011 - val_auc: 0.7396 - val_f1_score: 0.3556 - lr: 5.0000e-05\n",
            "Epoch 7/25\n",
            "129/129 [==============================] - 64s 494ms/step - loss: 0.9229 - accuracy: 0.8020 - precision: 0.6692 - recall: 0.4112 - auc: 0.8411 - f1_score: 0.5115 - val_loss: 1.3273 - val_accuracy: 0.7304 - val_precision: 0.4424 - val_recall: 0.3001 - val_auc: 0.7408 - val_f1_score: 0.3561 - lr: 1.7329e-05\n",
            "Epoch 8/25\n",
            "129/129 [==============================] - 64s 497ms/step - loss: 0.9154 - accuracy: 0.8008 - precision: 0.6660 - recall: 0.4073 - auc: 0.8417 - f1_score: 0.5057 - val_loss: 1.3527 - val_accuracy: 0.7290 - val_precision: 0.4393 - val_recall: 0.3040 - val_auc: 0.7389 - val_f1_score: 0.3578 - lr: 6.0056e-06\n",
            "Epoch 9/25\n",
            "129/129 [==============================] - 64s 498ms/step - loss: 0.9020 - accuracy: 0.8059 - precision: 0.6796 - recall: 0.4229 - auc: 0.8473 - f1_score: 0.5164 - val_loss: 1.3292 - val_accuracy: 0.7326 - val_precision: 0.4492 - val_recall: 0.3069 - val_auc: 0.7415 - val_f1_score: 0.3648 - lr: 2.0814e-06\n",
            "Epoch 10/25\n",
            "129/129 [==============================] - 67s 517ms/step - loss: 0.9148 - accuracy: 0.8019 - precision: 0.6661 - recall: 0.4158 - auc: 0.8414 - f1_score: 0.5076 - val_loss: 1.3210 - val_accuracy: 0.7331 - val_precision: 0.4509 - val_recall: 0.3099 - val_auc: 0.7431 - val_f1_score: 0.3681 - lr: 7.2135e-07\n",
            "Epoch 11/25\n",
            "129/129 [==============================] - 63s 491ms/step - loss: 0.9061 - accuracy: 0.8038 - precision: 0.6742 - recall: 0.4165 - auc: 0.8440 - f1_score: 0.5153 - val_loss: 1.3281 - val_accuracy: 0.7317 - val_precision: 0.4465 - val_recall: 0.3060 - val_auc: 0.7416 - val_f1_score: 0.3606 - lr: 2.5000e-07\n",
            "Epoch 12/25\n",
            "129/129 [==============================] - 64s 494ms/step - loss: 0.9111 - accuracy: 0.8037 - precision: 0.6750 - recall: 0.4146 - auc: 0.8430 - f1_score: 0.5092 - val_loss: 1.3341 - val_accuracy: 0.7324 - val_precision: 0.4489 - val_recall: 0.3089 - val_auc: 0.7406 - val_f1_score: 0.3644 - lr: 8.6643e-08\n",
            "Epoch 13/25\n",
            "129/129 [==============================] - 64s 493ms/step - loss: 0.9035 - accuracy: 0.8050 - precision: 0.6793 - recall: 0.4170 - auc: 0.8458 - f1_score: 0.5164 - val_loss: 1.3301 - val_accuracy: 0.7304 - val_precision: 0.4427 - val_recall: 0.3021 - val_auc: 0.7403 - val_f1_score: 0.3583 - lr: 3.0028e-08\n",
            "Epoch 14/25\n",
            "129/129 [==============================] - 69s 538ms/step - loss: 0.9144 - accuracy: 0.8039 - precision: 0.6767 - recall: 0.4126 - auc: 0.8433 - f1_score: 0.5126 - val_loss: 1.3424 - val_accuracy: 0.7314 - val_precision: 0.4456 - val_recall: 0.3040 - val_auc: 0.7402 - val_f1_score: 0.3602 - lr: 1.0407e-08\n",
            "Epoch 15/25\n",
            "129/129 [==============================] - 65s 502ms/step - loss: 0.9189 - accuracy: 0.8001 - precision: 0.6634 - recall: 0.4073 - auc: 0.8396 - f1_score: 0.4999 - val_loss: 1.3535 - val_accuracy: 0.7275 - val_precision: 0.4343 - val_recall: 0.2972 - val_auc: 0.7373 - val_f1_score: 0.3516 - lr: 3.6067e-09\n",
            "Epoch 16/25\n",
            "129/129 [==============================] - 65s 502ms/step - loss: 0.9054 - accuracy: 0.8053 - precision: 0.6797 - recall: 0.4185 - auc: 0.8453 - f1_score: 0.5179 - val_loss: 1.3522 - val_accuracy: 0.7292 - val_precision: 0.4392 - val_recall: 0.3001 - val_auc: 0.7392 - val_f1_score: 0.3543 - lr: 1.2500e-09\n",
            "Epoch 17/25\n",
            "129/129 [==============================] - 65s 504ms/step - loss: 0.9117 - accuracy: 0.8075 - precision: 0.6844 - recall: 0.4270 - auc: 0.8453 - f1_score: 0.5266 - val_loss: 1.3364 - val_accuracy: 0.7295 - val_precision: 0.4398 - val_recall: 0.3001 - val_auc: 0.7401 - val_f1_score: 0.3543 - lr: 4.3322e-10\n",
            "Epoch 18/25\n",
            "129/129 [==============================] - 67s 517ms/step - loss: 0.9057 - accuracy: 0.8059 - precision: 0.6832 - recall: 0.4173 - auc: 0.8464 - f1_score: 0.5131 - val_loss: 1.3198 - val_accuracy: 0.7307 - val_precision: 0.4428 - val_recall: 0.2991 - val_auc: 0.7410 - val_f1_score: 0.3560 - lr: 1.5014e-10\n",
            "Epoch 19/25\n",
            "129/129 [==============================] - 65s 502ms/step - loss: 0.9082 - accuracy: 0.8020 - precision: 0.6711 - recall: 0.4078 - auc: 0.8431 - f1_score: 0.5029 - val_loss: 1.3317 - val_accuracy: 0.7290 - val_precision: 0.4382 - val_recall: 0.2981 - val_auc: 0.7390 - val_f1_score: 0.3537 - lr: 5.2035e-11\n",
            "Epoch 20/25\n",
            "129/129 [==============================] - 66s 510ms/step - loss: 0.9016 - accuracy: 0.8061 - precision: 0.6826 - recall: 0.4192 - auc: 0.8452 - f1_score: 0.5193 - val_loss: 1.3440 - val_accuracy: 0.7287 - val_precision: 0.4379 - val_recall: 0.3001 - val_auc: 0.7383 - val_f1_score: 0.3549 - lr: 1.8034e-11\n",
            "Epoch 21/25\n",
            "129/129 [==============================] - 65s 500ms/step - loss: 0.9133 - accuracy: 0.8023 - precision: 0.6689 - recall: 0.4141 - auc: 0.8414 - f1_score: 0.5072 - val_loss: 1.3465 - val_accuracy: 0.7287 - val_precision: 0.4385 - val_recall: 0.3030 - val_auc: 0.7399 - val_f1_score: 0.3559 - lr: 6.2500e-12\n",
            "Epoch 22/25\n",
            "129/129 [==============================] - 67s 517ms/step - loss: 0.9161 - accuracy: 0.8015 - precision: 0.6688 - recall: 0.4080 - auc: 0.8414 - f1_score: 0.5021 - val_loss: 1.3438 - val_accuracy: 0.7297 - val_precision: 0.4410 - val_recall: 0.3030 - val_auc: 0.7394 - val_f1_score: 0.3575 - lr: 2.1661e-12\n",
            "Epoch 23/25\n",
            "129/129 [==============================] - 65s 505ms/step - loss: 0.9120 - accuracy: 0.8025 - precision: 0.6681 - recall: 0.4175 - auc: 0.8438 - f1_score: 0.5091 - val_loss: 1.3448 - val_accuracy: 0.7275 - val_precision: 0.4348 - val_recall: 0.3001 - val_auc: 0.7390 - val_f1_score: 0.3544 - lr: 7.5070e-13\n",
            "Epoch 24/25\n",
            "129/129 [==============================] - 65s 502ms/step - loss: 0.9142 - accuracy: 0.8030 - precision: 0.6701 - recall: 0.4173 - auc: 0.8415 - f1_score: 0.5145 - val_loss: 1.3273 - val_accuracy: 0.7326 - val_precision: 0.4489 - val_recall: 0.3050 - val_auc: 0.7401 - val_f1_score: 0.3621 - lr: 2.6017e-13\n",
            "Epoch 25/25\n",
            "129/129 [==============================] - 66s 510ms/step - loss: 0.9051 - accuracy: 0.8047 - precision: 0.6785 - recall: 0.4156 - auc: 0.8458 - f1_score: 0.5145 - val_loss: 1.3291 - val_accuracy: 0.7317 - val_precision: 0.4460 - val_recall: 0.3030 - val_auc: 0.7395 - val_f1_score: 0.3598 - lr: 9.0169e-14\n"
          ]
        }
      ]
    },
    {
      "cell_type": "code",
      "source": [
        "\n",
        "def Train_Val_Plot(acc,val_acc,loss,val_loss,auc,val_auc,precision,val_precision,f1,val_f1):\n",
        "    \n",
        "    fig, (ax1, ax2,ax3,ax4,ax5) = plt.subplots(1,5, figsize= (20,5))\n",
        "    fig.suptitle(\" MODEL'S METRICS VISUALIZATION \")\n",
        "\n",
        "    ax1.plot(range(1, len(acc) + 1), acc)\n",
        "    ax1.plot(range(1, len(val_acc) + 1), val_acc)\n",
        "    ax1.set_title('History of Accuracy')\n",
        "    ax1.set_xlabel('Epochs')\n",
        "    ax1.set_ylabel('Accuracy')\n",
        "    ax1.legend(['training', 'validation'])\n",
        "\n",
        "    ax2.plot(range(1, len(loss) + 1), loss)\n",
        "    ax2.plot(range(1, len(val_loss) + 1), val_loss)\n",
        "    ax2.set_title('History of Loss')\n",
        "    ax2.set_xlabel('Epochs')\n",
        "    ax2.set_ylabel('Loss')\n",
        "    ax2.legend(['training', 'validation'])\n",
        "    \n",
        "    ax3.plot(range(1, len(auc) + 1), auc)\n",
        "    ax3.plot(range(1, len(val_auc) + 1), val_auc)\n",
        "    ax3.set_title('History of AUC')\n",
        "    ax3.set_xlabel('Epochs')\n",
        "    ax3.set_ylabel('AUC')\n",
        "    ax3.legend(['training', 'validation'])\n",
        "\n",
        "    ax4.plot(range(1, len(precision) + 1), precision)\n",
        "    ax4.plot(range(1, len(val_precision) + 1), val_precision)\n",
        "    ax4.set_title('History of Precision')\n",
        "    ax4.set_xlabel('Epochs')\n",
        "    ax4.set_ylabel('Precision')\n",
        "    ax4.legend(['training', 'validation'])\n",
        "    \n",
        "    ax5.plot(range(1, len(f1) + 1), f1)\n",
        "    ax5.plot(range(1, len(val_f1) + 1), val_f1)\n",
        "    ax5.set_title('History of F1-score')\n",
        "    ax5.set_xlabel('Epochs')\n",
        "    ax5.set_ylabel('F1 score')\n",
        "    ax5.legend(['training', 'validation'])\n",
        "\n",
        "\n",
        "    plt.show()\n",
        "    \n",
        "Train_Val_Plot(history.history['accuracy'],history.history['val_accuracy'],\n",
        "               history.history['loss'],history.history['val_loss'],\n",
        "               history.history['auc'],history.history['val_auc'],\n",
        "               history.history['precision'],history.history['val_precision'],\n",
        "               history.history['f1_score'],history.history['val_f1_score']\n",
        "              )"
      ],
      "metadata": {
        "id": "XTlid7fDx8J_",
        "colab": {
          "base_uri": "https://localhost:8080/",
          "height": 370
        },
        "outputId": "582c0673-2578-4d1a-f337-8aa81a3e056d"
      },
      "execution_count": null,
      "outputs": [
        {
          "output_type": "display_data",
          "data": {
            "text/plain": [
              "<Figure size 1440x360 with 5 Axes>"
            ],
            "image/png": "[encoded data removed]"
          },
          "metadata": {
            "needs_background": "light"
          }
        }
      ]
    },
    {
      "cell_type": "code",
      "source": [
        "scores = model.evaluate_generator(test_dataset)"
      ],
      "metadata": {
        "colab": {
          "base_uri": "https://localhost:8080/"
        },
        "id": "vD274VtFyE03",
        "outputId": "4b9db9d7-9588-46e6-976f-257164a5980e"
      },
      "execution_count": null,
      "outputs": [
        {
          "output_type": "stream",
          "name": "stderr",
          "text": [
            "/usr/local/lib/python3.7/dist-packages/ipykernel_launcher.py:1: UserWarning: `Model.evaluate_generator` is deprecated and will be removed in a future version. Please use `Model.evaluate`, which supports generators.\n",
            "  \"\"\"Entry point for launching an IPython kernel.\n"
          ]
        }
      ]
    },
    {
      "cell_type": "code",
      "source": [
        "print(\"Accuracy = \", scores[1])\n",
        "print(\"Precision = \", scores[2])\n",
        "print(\"Recall = \", scores[3])\n",
        "print(\"AUC = \", scores[4])\n",
        "print(\"F1_score = \", scores[5])"
      ],
      "metadata": {
        "id": "Kos4vkKqyGPP",
        "colab": {
          "base_uri": "https://localhost:8080/"
        },
        "outputId": "67c9e4b1-fb1f-44d3-92b1-451d85828429"
      },
      "execution_count": null,
      "outputs": [
        {
          "output_type": "stream",
          "name": "stdout",
          "text": [
            "Accuracy =  0.791438639163971\n",
            "Precision =  0.6101871132850647\n",
            "Recall =  0.45895230770111084\n",
            "AUC =  0.8303365707397461\n",
            "F1_score =  0.5224714279174805\n"
          ]
        }
      ]
    },
    {
      "cell_type": "markdown",
      "source": [
        "Accuracy =  0.7963252663612366\n",
        "Precision =  0.6335964202880859\n",
        "Recall =  0.43940579891204834\n",
        "AUC =  0.8337630033493042\n",
        "F1_score =  0.5177056789398193"
      ],
      "metadata": {
        "id": "JrJ0m-KaC9io"
      }
    }
  ],
  "metadata": {
    "colab": {
      "name": "mobilenetv2.ipynb",
      "provenance": [],
      "collapsed_sections": [],
      "authorship_tag": "ABX9TyNMqlfidh4KSrQtUT00kio6",
      "include_colab_link": true
    },
    "kernelspec": {
      "display_name": "Python 3",
      "name": "python3"
    },
    "language_info": {
      "name": "python"
    }
  },
  "nbformat": 4,
  "nbformat_minor": 0
}