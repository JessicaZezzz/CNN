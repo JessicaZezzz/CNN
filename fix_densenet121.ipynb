{
  "cells": [
    {
      "cell_type": "code",
      "execution_count": null,
      "metadata": {
        "id": "1s3CSe1MrSqs",
        "colab": {
          "base_uri": "https://localhost:8080/"
        },
        "outputId": "05c64c8d-22cf-472b-a97a-394cfa6b255f"
      },
      "outputs": [
        {
          "output_type": "stream",
          "name": "stdout",
          "text": [
            "Mounted at /content/drive/\n"
          ]
        }
      ],
      "source": [
        "from google.colab import drive\n",
        "drive.mount(\"/content/drive/\")"
      ]
    },
    {
      "cell_type": "code",
      "execution_count": null,
      "metadata": {
        "id": "09a48e5e"
      },
      "outputs": [],
      "source": [
        "# This Python 3 environment comes with many helpful analytics libraries installed\n",
        "# It is defined by the kaggle/python Docker image: https://github.com/kaggle/docker-python\n",
        "# For example, here's several helpful packages to load\n",
        "\n",
        "import numpy as np # linear algebra\n",
        "import pandas as pd # data processing, CSV file I/O (e.g. pd.read_csv)\n",
        "\n",
        "\n",
        "import os"
      ]
    },
    {
      "cell_type": "code",
      "execution_count": null,
      "metadata": {
        "id": "c159223d"
      },
      "outputs": [],
      "source": [
        "#import libraries to look at the images\n",
        "import matplotlib.pyplot as plt\n",
        "from PIL import Image"
      ]
    },
    {
      "cell_type": "code",
      "execution_count": null,
      "metadata": {
        "id": "12ff1b50"
      },
      "outputs": [],
      "source": [
        "data_src=\"/content/drive/MyDrive/Dataset/\""
      ]
    },
    {
      "cell_type": "markdown",
      "metadata": {
        "id": "7f132fcc"
      },
      "source": [
        "First we load each image into a list, and save the corresponding label in another list"
      ]
    },
    {
      "cell_type": "code",
      "execution_count": null,
      "metadata": {
        "id": "f563be93"
      },
      "outputs": [],
      "source": [
        "data=[]\n",
        "y=[]\n",
        "for d in os.listdir(data_src):\n",
        "    for file in os.listdir(data_src+d):\n",
        "        data.append(Image.open(data_src+d+'/'+file))\n",
        "        y.append(d)"
      ]
    },
    {
      "cell_type": "markdown",
      "metadata": {
        "id": "b8ffbc49"
      },
      "source": [
        "Convert each image into a numpy array"
      ]
    },
    {
      "cell_type": "code",
      "execution_count": null,
      "metadata": {
        "id": "278a2bbb"
      },
      "outputs": [],
      "source": [
        "X=[]\n",
        "for im in data:\n",
        "    X.append(np.array(im))"
      ]
    },
    {
      "cell_type": "code",
      "execution_count": null,
      "metadata": {
        "id": "85e6fd8b"
      },
      "outputs": [],
      "source": [
        "#Convert the list of data into an array\n",
        "X=np.array(X)"
      ]
    },
    {
      "cell_type": "code",
      "execution_count": null,
      "metadata": {
        "id": "66ba5e5f",
        "colab": {
          "base_uri": "https://localhost:8080/"
        },
        "outputId": "417fb670-c4cc-460d-c18c-b961ae0a9815"
      },
      "outputs": [
        {
          "output_type": "execute_result",
          "data": {
            "text/plain": [
              "(6400, 128, 128)"
            ]
          },
          "metadata": {},
          "execution_count": 8
        }
      ],
      "source": [
        "X.shape"
      ]
    },
    {
      "cell_type": "code",
      "execution_count": null,
      "metadata": {
        "id": "3463c489"
      },
      "outputs": [],
      "source": [
        "#Divide by 255 to standardize the values between 0 and 1\n",
        "X=X/255"
      ]
    },
    {
      "cell_type": "code",
      "execution_count": null,
      "metadata": {
        "id": "cb940364"
      },
      "outputs": [],
      "source": [
        "from sklearn.model_selection import train_test_split"
      ]
    },
    {
      "cell_type": "code",
      "execution_count": null,
      "metadata": {
        "id": "28fbba69"
      },
      "outputs": [],
      "source": [
        "from tensorflow.keras.models import Sequential\n",
        "from tensorflow.keras.layers import Dense,Conv2D,MaxPooling2D,Flatten\n",
        "from tensorflow.keras.utils import to_categorical"
      ]
    },
    {
      "cell_type": "code",
      "execution_count": null,
      "metadata": {
        "id": "d0c7c561",
        "colab": {
          "base_uri": "https://localhost:8080/"
        },
        "outputId": "4065da37-fccb-4b17-b0f5-669d4a56b54a"
      },
      "outputs": [
        {
          "output_type": "stream",
          "name": "stdout",
          "text": [
            "Non Demented:  3200\n",
            "Very Mild:  2240\n",
            "Moderate:  64\n",
            "Mild : 896\n"
          ]
        }
      ],
      "source": [
        "#Let's count how many of each category we have\n",
        "non=0\n",
        "mild=0\n",
        "mod=0\n",
        "vm=0\n",
        "for cat in y:\n",
        "    if cat==\"Mild_Demented\":\n",
        "        mild+=1\n",
        "    elif cat==\"Moderate_Demented\":\n",
        "        mod+=1\n",
        "    elif cat==\"Non_Demented\":\n",
        "        non+=1\n",
        "    else:\n",
        "        vm+=1\n",
        "print(\"Non Demented: \",non)\n",
        "print(\"Very Mild: \",vm)\n",
        "print(\"Moderate: \",mod)\n",
        "print(\"Mild :\",mild)"
      ]
    },
    {
      "cell_type": "code",
      "execution_count": null,
      "metadata": {
        "id": "8abd1459"
      },
      "outputs": [],
      "source": [
        "#Now we change these values to numerical ones so that we can use to_categorical\n",
        "#0 will be non, 1 will be very mild, 2 will be mild, 3 will be moderate\n",
        "y_num=[]\n",
        "for cat in y:\n",
        "    if cat==\"Mild_Demented\":\n",
        "        y_num.append(2)\n",
        "    elif cat==\"Moderate_Demented\":\n",
        "        y_num.append(3)\n",
        "    elif cat==\"Non_Demented\":\n",
        "        y_num.append(0)\n",
        "    else:\n",
        "        y_num.append(1)"
      ]
    },
    {
      "cell_type": "code",
      "execution_count": null,
      "metadata": {
        "id": "1e15c539"
      },
      "outputs": [],
      "source": [
        "#convert to a categorical target as expected by keras\n",
        "y=to_categorical(y_num)"
      ]
    },
    {
      "cell_type": "code",
      "execution_count": null,
      "metadata": {
        "id": "98820252",
        "colab": {
          "base_uri": "https://localhost:8080/"
        },
        "outputId": "80c88a0d-7643-4a8b-d10c-3593333fcda0"
      },
      "outputs": [
        {
          "output_type": "execute_result",
          "data": {
            "text/plain": [
              "(6400, 4)"
            ]
          },
          "metadata": {},
          "execution_count": 15
        }
      ],
      "source": [
        "y.shape"
      ]
    },
    {
      "cell_type": "code",
      "execution_count": null,
      "metadata": {
        "id": "edd022c6"
      },
      "outputs": [],
      "source": [
        "#Reshape to use in a neural network\n",
        "X=X.reshape(6400,128,128,1)"
      ]
    },
    {
      "cell_type": "code",
      "execution_count": null,
      "metadata": {
        "id": "28a72bc9"
      },
      "outputs": [],
      "source": [
        "#Split into a training set and test set\n",
        "X_train,X_test,y_train,y_test=train_test_split(X,y,test_size=0.25,random_state=42)"
      ]
    },
    {
      "cell_type": "code",
      "execution_count": null,
      "metadata": {
        "id": "3220b110",
        "colab": {
          "base_uri": "https://localhost:8080/"
        },
        "outputId": "6c194887-60d3-4bfc-b0ab-3a4d62879039"
      },
      "outputs": [
        {
          "output_type": "stream",
          "name": "stdout",
          "text": [
            "(4800, 128, 128, 1) (1600, 128, 128, 1) (4800, 4) (1600, 4)\n"
          ]
        }
      ],
      "source": [
        "print(X_train.shape,X_test.shape,y_train.shape,y_test.shape)"
      ]
    },
    {
      "cell_type": "code",
      "execution_count": null,
      "metadata": {
        "id": "XD_bhKybCO6C"
      },
      "outputs": [],
      "source": [
        "import numpy as np\n",
        "import pandas as pd\n",
        "import matplotlib.pyplot as plt\n",
        "import seaborn as sn\n",
        "import skimage.io\n",
        "import os \n",
        "import tqdm\n",
        "import glob\n",
        "import tensorflow \n",
        "\n",
        "from tqdm import tqdm\n",
        "from sklearn.utils import shuffle\n",
        "from sklearn import metrics\n",
        "from sklearn.metrics import confusion_matrix, classification_report\n",
        "from sklearn.model_selection import train_test_split\n",
        "\n",
        "from skimage.io import imread, imshow\n",
        "from skimage.transform import resize\n",
        "from skimage.color import grey2rgb\n",
        "\n",
        "import tensorflow as tf\n",
        "from tensorflow.keras.preprocessing.image import ImageDataGenerator\n",
        "from tensorflow.keras.preprocessing import image_dataset_from_directory\n",
        "from tensorflow.keras.models import Sequential\n",
        "from tensorflow.keras.layers import InputLayer, BatchNormalization, Dropout, Flatten, Dense, Activation, MaxPool2D, Conv2D\n",
        "from tensorflow.keras.callbacks import EarlyStopping, ModelCheckpoint"
      ]
    },
    {
      "cell_type": "code",
      "execution_count": null,
      "metadata": {
        "id": "SlRbEO824awq"
      },
      "outputs": [],
      "source": [
        "from tensorflow.keras.applications.vgg16 import VGG16 # VGG16\n",
        "from tensorflow.keras.applications.vgg19 import VGG19 # VGG19\n",
        "from tensorflow.keras.applications.resnet50 import ResNet50 # ResNet50\n",
        "from tensorflow.keras.applications.xception import Xception # Xception\n",
        "from tensorflow.keras.applications.mobilenet import MobileNet # MobileNet\n",
        "from tensorflow.keras.applications.nasnet import NASNetMobile # NASNetMobile\n",
        "from tensorflow.keras.applications.densenet import DenseNet169 # DenseNet169\n",
        "from tensorflow.keras.applications.densenet import DenseNet121 # DenseNet121\n",
        "from tensorflow.keras.applications.mobilenet_v2 import MobileNetV2 # MobileNetV2\n",
        "from tensorflow.keras.applications.inception_v3 import InceptionV3\n",
        "from tensorflow.keras.utils import to_categorical\n",
        "from keras import optimizers\n",
        "\n",
        "from keras.callbacks import Callback,ModelCheckpoint\n",
        "from keras.models import Sequential,load_model\n",
        "from keras.layers import Dense, Dropout\n",
        "from keras.wrappers.scikit_learn import KerasClassifier\n",
        "import keras.backend as K\n",
        "from typeguard import typechecked\n",
        "from typing import Optional"
      ]
    },
    {
      "cell_type": "code",
      "execution_count": null,
      "metadata": {
        "id": "AyLPdCxFcKVV",
        "colab": {
          "base_uri": "https://localhost:8080/"
        },
        "outputId": "bada13f9-e0c2-4ab7-9a2b-385dcfb089f5"
      },
      "outputs": [
        {
          "output_type": "stream",
          "name": "stdout",
          "text": [
            "Model: \"model\"\n",
            "_________________________________________________________________\n",
            " Layer (type)                Output Shape              Param #   \n",
            "=================================================================\n",
            " input (InputLayer)          [(None, 128, 128, 1)]     0         \n",
            "                                                                 \n",
            " densenet121 (Functional)    (None, 1024)              7031232   \n",
            "                                                                 \n",
            " dense (Dense)               (None, 4)                 4100      \n",
            "                                                                 \n",
            "=================================================================\n",
            "Total params: 7,035,332\n",
            "Trainable params: 6,951,684\n",
            "Non-trainable params: 83,648\n",
            "_________________________________________________________________\n"
          ]
        }
      ],
      "source": [
        "import keras\n",
        "from keras import applications\n",
        "from keras.layers import Conv3D, MaxPool3D, Flatten, Dense\n",
        "from keras.layers import Dropout, Input, BatchNormalization\n",
        "from keras import Model\n",
        "INPUT_SHAPE = (128, 128, 1) # used to define the input size to the model\n",
        "n_output_units = 4\n",
        "activation_fn = 'softmax'\n",
        "densenet_121_model = applications.densenet.DenseNet121(include_top=False, weights=None, input_shape=INPUT_SHAPE, pooling='avg')\n",
        "inputs = Input(shape=INPUT_SHAPE, name='input')\n",
        "model_base = densenet_121_model(inputs)\n",
        "output = Dense(units=n_output_units, activation=activation_fn)(model_base)\n",
        "cnn = Model(inputs=inputs, outputs=output)\n",
        "cnn.summary()"
      ]
    },
    {
      "cell_type": "code",
      "execution_count": null,
      "metadata": {
        "id": "47b77fe1"
      },
      "outputs": [],
      "source": [
        "cnn.compile(optimizer='adam',loss='categorical_crossentropy',metrics='accuracy')"
      ]
    },
    {
      "cell_type": "code",
      "execution_count": null,
      "metadata": {
        "id": "9243c85b",
        "colab": {
          "base_uri": "https://localhost:8080/"
        },
        "outputId": "1629ca4f-e776-4943-d43d-c7ad8aefa0e7"
      },
      "outputs": [
        {
          "output_type": "stream",
          "name": "stdout",
          "text": [
            "Epoch 1/20\n",
            "150/150 [==============================] - 46s 145ms/step - loss: 0.9238 - accuracy: 0.5594 - val_loss: 1.2124 - val_accuracy: 0.5113\n",
            "Epoch 2/20\n",
            "150/150 [==============================] - 21s 140ms/step - loss: 0.8082 - accuracy: 0.6252 - val_loss: 1.1912 - val_accuracy: 0.4219\n",
            "Epoch 3/20\n",
            "150/150 [==============================] - 21s 142ms/step - loss: 0.7463 - accuracy: 0.6560 - val_loss: 1.3349 - val_accuracy: 0.5194\n",
            "Epoch 4/20\n",
            "150/150 [==============================] - 21s 141ms/step - loss: 0.6463 - accuracy: 0.7135 - val_loss: 1.6416 - val_accuracy: 0.5569\n",
            "Epoch 5/20\n",
            "150/150 [==============================] - 22s 147ms/step - loss: 0.5320 - accuracy: 0.7815 - val_loss: 0.7600 - val_accuracy: 0.6800\n",
            "Epoch 6/20\n",
            "150/150 [==============================] - 21s 141ms/step - loss: 0.3807 - accuracy: 0.8471 - val_loss: 4.5092 - val_accuracy: 0.0919\n",
            "Epoch 7/20\n",
            "150/150 [==============================] - 22s 146ms/step - loss: 0.2821 - accuracy: 0.8919 - val_loss: 2.0445 - val_accuracy: 0.6250\n",
            "Epoch 8/20\n",
            "150/150 [==============================] - 22s 146ms/step - loss: 0.2219 - accuracy: 0.9154 - val_loss: 3.0643 - val_accuracy: 0.5194\n",
            "Epoch 9/20\n",
            "150/150 [==============================] - 21s 141ms/step - loss: 0.1276 - accuracy: 0.9508 - val_loss: 2.1586 - val_accuracy: 0.6087\n",
            "Epoch 10/20\n",
            "150/150 [==============================] - 21s 141ms/step - loss: 0.1195 - accuracy: 0.9550 - val_loss: 0.6950 - val_accuracy: 0.7425\n",
            "Epoch 11/20\n",
            "150/150 [==============================] - 21s 141ms/step - loss: 0.1239 - accuracy: 0.9535 - val_loss: 2.0301 - val_accuracy: 0.6669\n",
            "Epoch 12/20\n",
            "150/150 [==============================] - 22s 146ms/step - loss: 0.0838 - accuracy: 0.9725 - val_loss: 1.4752 - val_accuracy: 0.6931\n",
            "Epoch 13/20\n",
            "150/150 [==============================] - 22s 146ms/step - loss: 0.0560 - accuracy: 0.9794 - val_loss: 0.2849 - val_accuracy: 0.9013\n",
            "Epoch 14/20\n",
            "150/150 [==============================] - 21s 141ms/step - loss: 0.0659 - accuracy: 0.9775 - val_loss: 1.7844 - val_accuracy: 0.6506\n",
            "Epoch 15/20\n",
            "150/150 [==============================] - 21s 141ms/step - loss: 0.0619 - accuracy: 0.9798 - val_loss: 1.1648 - val_accuracy: 0.6288\n",
            "Epoch 16/20\n",
            "150/150 [==============================] - 21s 140ms/step - loss: 0.0394 - accuracy: 0.9865 - val_loss: 0.4567 - val_accuracy: 0.8744\n",
            "Epoch 17/20\n",
            "150/150 [==============================] - 21s 141ms/step - loss: 0.0606 - accuracy: 0.9785 - val_loss: 0.5721 - val_accuracy: 0.8388\n",
            "Epoch 18/20\n",
            "150/150 [==============================] - 22s 147ms/step - loss: 0.0434 - accuracy: 0.9837 - val_loss: 1.8877 - val_accuracy: 0.5975\n",
            "Epoch 19/20\n",
            "150/150 [==============================] - 22s 145ms/step - loss: 0.0778 - accuracy: 0.9715 - val_loss: 0.3756 - val_accuracy: 0.8794\n",
            "Epoch 20/20\n",
            "150/150 [==============================] - 21s 140ms/step - loss: 0.0246 - accuracy: 0.9917 - val_loss: 0.3406 - val_accuracy: 0.8863\n"
          ]
        }
      ],
      "source": [
        "#Train the Convolutional Neural Network on the data\n",
        "history=cnn.fit(X_train,y_train,epochs=20,validation_data=(X_test,y_test))"
      ]
    },
    {
      "cell_type": "code",
      "execution_count": null,
      "metadata": {
        "id": "6d9f71ac"
      },
      "outputs": [],
      "source": [
        "#Get a prediction from the neural network\n",
        "y_pred=cnn.predict(X_test)"
      ]
    },
    {
      "cell_type": "code",
      "execution_count": null,
      "metadata": {
        "id": "aa6808b2"
      },
      "outputs": [],
      "source": [
        "#The prediction is a sequence of 4 probabilities. We choose the label with the highest probability\n",
        "y_val=[]\n",
        "for y in y_pred:\n",
        "    y_val.append(np.argmax(y))"
      ]
    },
    {
      "cell_type": "code",
      "execution_count": null,
      "metadata": {
        "id": "1a027f1e"
      },
      "outputs": [],
      "source": [
        "from sklearn.metrics import confusion_matrix,classification_report"
      ]
    },
    {
      "cell_type": "code",
      "execution_count": null,
      "metadata": {
        "id": "e4314f3a"
      },
      "outputs": [],
      "source": [
        "#Convert back to labels 0-3\n",
        "y_true=[]\n",
        "for y in y_test:\n",
        "    y_true.append(np.argmax(y))"
      ]
    },
    {
      "cell_type": "code",
      "execution_count": null,
      "metadata": {
        "id": "37d6bf2f",
        "colab": {
          "base_uri": "https://localhost:8080/"
        },
        "outputId": "dd3e65f3-8048-4139-9cba-fdb1ecdb0684"
      },
      "outputs": [
        {
          "output_type": "stream",
          "name": "stdout",
          "text": [
            "[[664 149   5   0]\n",
            " [  1 527   5   0]\n",
            " [  3  16 222   0]\n",
            " [  0   3   0   5]]\n"
          ]
        }
      ],
      "source": [
        "#Let's see how the predictions did\n",
        "print(confusion_matrix(y_true,y_val))"
      ]
    },
    {
      "cell_type": "code",
      "execution_count": null,
      "metadata": {
        "id": "89229dee",
        "colab": {
          "base_uri": "https://localhost:8080/"
        },
        "outputId": "74141e75-71b3-4546-98ec-1f45ac63db5b"
      },
      "outputs": [
        {
          "output_type": "stream",
          "name": "stdout",
          "text": [
            "              precision    recall  f1-score   support\n",
            "\n",
            "           0       0.99      0.81      0.89       818\n",
            "           1       0.76      0.99      0.86       533\n",
            "           2       0.96      0.92      0.94       241\n",
            "           3       1.00      0.62      0.77         8\n",
            "\n",
            "    accuracy                           0.89      1600\n",
            "   macro avg       0.93      0.84      0.86      1600\n",
            "weighted avg       0.91      0.89      0.89      1600\n",
            "\n"
          ]
        }
      ],
      "source": [
        "print(classification_report(y_true,y_val))"
      ]
    },
    {
      "cell_type": "code",
      "execution_count": null,
      "metadata": {
        "id": "80305235"
      },
      "outputs": [],
      "source": [
        "from sklearn.metrics import accuracy_score"
      ]
    },
    {
      "cell_type": "code",
      "execution_count": null,
      "metadata": {
        "id": "04c42e22",
        "colab": {
          "base_uri": "https://localhost:8080/"
        },
        "outputId": "86a86f8b-e1fa-48de-a9f9-c32b3c018a4f"
      },
      "outputs": [
        {
          "output_type": "stream",
          "name": "stdout",
          "text": [
            "Accuracy on test data:  0.88625\n"
          ]
        }
      ],
      "source": [
        "print(\"Accuracy on test data: \",accuracy_score(y_true,y_val))"
      ]
    }
  ],
  "metadata": {
    "colab": {
      "name": "DenseNet_baru_.ipynb",
      "provenance": [],
      "collapsed_sections": []
    },
    "kernelspec": {
      "display_name": "Python 3",
      "name": "python3"
    },
    "language_info": {
      "name": "python"
    },
    "gpuClass": "standard",
    "accelerator": "GPU"
  },
  "nbformat": 4,
  "nbformat_minor": 0
}