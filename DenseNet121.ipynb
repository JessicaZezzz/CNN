{
  "cells": [
    {
      "cell_type": "markdown",
      "metadata": {
        "id": "view-in-github",
        "colab_type": "text"
      },
      "source": [
        "<a href=\"https://colab.research.google.com/github/JessicaZezzz/CNN/blob/main/DenseNet121.ipynb\" target=\"_parent\"><img src=\"https://colab.research.google.com/assets/colab-badge.svg\" alt=\"Open In Colab\"/></a>"
      ]
    },
    {
      "cell_type": "code",
      "execution_count": null,
      "metadata": {
        "colab": {
          "base_uri": "https://localhost:8080/"
        },
        "id": "oh1msCyfCS3p",
        "outputId": "0a84b30b-ccaa-4226-ccda-025746ad29b8"
      },
      "outputs": [
        {
          "output_type": "stream",
          "name": "stdout",
          "text": [
            "Mounted at /content/drive/\n"
          ]
        }
      ],
      "source": [
        "from google.colab import drive\n",
        "drive.mount(\"/content/drive/\")"
      ]
    },
    {
      "cell_type": "code",
      "execution_count": null,
      "metadata": {
        "id": "XD_bhKybCO6C"
      },
      "outputs": [],
      "source": [
        "import numpy as np\n",
        "import pandas as pd\n",
        "import matplotlib.pyplot as plt\n",
        "import seaborn as sn\n",
        "import skimage.io\n",
        "import os \n",
        "import tqdm\n",
        "import glob\n",
        "import tensorflow \n",
        "\n",
        "from tqdm import tqdm\n",
        "from sklearn.utils import shuffle\n",
        "from sklearn import metrics\n",
        "from sklearn.metrics import confusion_matrix, classification_report\n",
        "from sklearn.model_selection import train_test_split\n",
        "\n",
        "from skimage.io import imread, imshow\n",
        "from skimage.transform import resize\n",
        "from skimage.color import grey2rgb\n",
        "\n",
        "import tensorflow as tf\n",
        "from tensorflow.keras.preprocessing.image import ImageDataGenerator\n",
        "from tensorflow.keras.preprocessing import image_dataset_from_directory\n",
        "from tensorflow.keras.models import Sequential\n",
        "from tensorflow.keras.layers import InputLayer, BatchNormalization, Dropout, Flatten, Dense, Activation, MaxPool2D, Conv2D\n",
        "from tensorflow.keras.callbacks import EarlyStopping, ModelCheckpoint"
      ]
    },
    {
      "cell_type": "code",
      "execution_count": null,
      "metadata": {
        "id": "SlRbEO824awq"
      },
      "outputs": [],
      "source": [
        "from tensorflow.keras.applications.vgg16 import VGG16 # VGG16\n",
        "from tensorflow.keras.applications.vgg19 import VGG19 # VGG19\n",
        "from tensorflow.keras.applications.resnet50 import ResNet50 # ResNet50\n",
        "from tensorflow.keras.applications.xception import Xception # Xception\n",
        "from tensorflow.keras.applications.mobilenet import MobileNet # MobileNet\n",
        "from tensorflow.keras.applications.nasnet import NASNetMobile # NASNetMobile\n",
        "from tensorflow.keras.applications.densenet import DenseNet169 # DenseNet169\n",
        "from tensorflow.keras.applications.densenet import DenseNet121 # DenseNet121\n",
        "from tensorflow.keras.applications.mobilenet_v2 import MobileNetV2 # MobileNetV2\n",
        "from tensorflow.keras.applications.inception_v3 import InceptionV3\n",
        "from tensorflow.keras.utils import to_categorical\n",
        "from keras import optimizers\n",
        "\n",
        "from keras.callbacks import Callback,ModelCheckpoint\n",
        "from keras.models import Sequential,load_model\n",
        "from keras.layers import Dense, Dropout\n",
        "from keras.wrappers.scikit_learn import KerasClassifier\n",
        "import keras.backend as K\n",
        "from typeguard import typechecked\n",
        "from typing import Optional"
      ]
    },
    {
      "cell_type": "code",
      "execution_count": null,
      "metadata": {
        "id": "0xnyLaq54lRc"
      },
      "outputs": [],
      "source": [
        "AUTOTUNE = tf.data.experimental.AUTOTUNE"
      ]
    },
    {
      "cell_type": "code",
      "execution_count": null,
      "metadata": {
        "id": "xEycpDX-4lzV"
      },
      "outputs": [],
      "source": [
        "train_datagen = ImageDataGenerator(rescale = 1./255,\n",
        "                                   validation_split = 0.2,\n",
        "                                   rotation_range=5,\n",
        "                                   width_shift_range=0.2,\n",
        "                                   height_shift_range=0.2,\n",
        "                                   shear_range=0.2,\n",
        "                                   #zoom_range=0.2,\n",
        "                                   horizontal_flip=True,\n",
        "                                   vertical_flip=True,\n",
        "                                   fill_mode='nearest')\n",
        "\n",
        "valid_datagen = ImageDataGenerator(rescale = 1./255,\n",
        "                                  validation_split = 0.2)\n",
        "\n",
        "test_datagen  = ImageDataGenerator(rescale = 1./255)"
      ]
    },
    {
      "cell_type": "code",
      "execution_count": null,
      "metadata": {
        "colab": {
          "base_uri": "https://localhost:8080/"
        },
        "id": "4WXXKeRH4tn8",
        "outputId": "01399c35-3fb1-4de6-d711-0245a43c5abe"
      },
      "outputs": [
        {
          "output_type": "stream",
          "name": "stdout",
          "text": [
            "Found 4098 images belonging to 4 classes.\n"
          ]
        }
      ],
      "source": [
        "train_dataset  = train_datagen.flow_from_directory(directory = '/content/drive/MyDrive/Dataset/train',\n",
        "                                                   target_size = (128,128),\n",
        "                                                   class_mode = 'categorical',\n",
        "                                                   subset = 'training',\n",
        "                                                   batch_size = 32)"
      ]
    },
    {
      "cell_type": "code",
      "execution_count": null,
      "metadata": {
        "colab": {
          "base_uri": "https://localhost:8080/"
        },
        "id": "zmNoMq6h4uJs",
        "outputId": "b94d81e7-dd32-455a-d3c4-e00369bcbb5d"
      },
      "outputs": [
        {
          "output_type": "stream",
          "name": "stdout",
          "text": [
            "Found 1023 images belonging to 4 classes.\n"
          ]
        }
      ],
      "source": [
        "valid_dataset = valid_datagen.flow_from_directory(directory = '/content/drive/MyDrive/Dataset/train',\n",
        "                                                  target_size = (128,128),\n",
        "                                                  class_mode = 'categorical',\n",
        "                                                  subset = 'validation',\n",
        "                                                  batch_size = 32)"
      ]
    },
    {
      "cell_type": "code",
      "execution_count": null,
      "metadata": {
        "colab": {
          "base_uri": "https://localhost:8080/"
        },
        "id": "gba_Ucnn4yYH",
        "outputId": "e7b85e3c-2cfe-4c1f-c4fa-79d8ee548633"
      },
      "outputs": [
        {
          "output_type": "stream",
          "name": "stdout",
          "text": [
            "Found 1279 images belonging to 4 classes.\n"
          ]
        }
      ],
      "source": [
        "test_dataset = test_datagen.flow_from_directory(directory = '/content/drive/MyDrive/Dataset/test',\n",
        "                                                  target_size = (128,128),\n",
        "                                                  class_mode = 'categorical',\n",
        "                                                  batch_size = 32)"
      ]
    },
    {
      "cell_type": "markdown",
      "metadata": {
        "id": "CxRbz5ZnV_Nt"
      },
      "source": [
        "batch_size=32"
      ]
    },
    {
      "cell_type": "code",
      "execution_count": null,
      "metadata": {
        "id": "bQ9yOY-W43nb",
        "colab": {
          "base_uri": "https://localhost:8080/"
        },
        "outputId": "03c9030f-7fbc-4dcc-f500-de58187219e2"
      },
      "outputs": [
        {
          "output_type": "stream",
          "name": "stdout",
          "text": [
            "Downloading data from https://storage.googleapis.com/tensorflow/keras-applications/densenet/densenet121_weights_tf_dim_ordering_tf_kernels_notop.h5\n",
            "29089792/29084464 [==============================] - 0s 0us/step\n",
            "29097984/29084464 [==============================] - 0s 0us/step\n"
          ]
        }
      ],
      "source": [
        "base_model = DenseNet121(input_shape=(128,128,3), \n",
        "                   include_top=False,\n",
        "                   weights=\"imagenet\")"
      ]
    },
    {
      "cell_type": "code",
      "execution_count": null,
      "metadata": {
        "id": "TO9e1tJQ4-Iu"
      },
      "outputs": [],
      "source": [
        "for layer in base_model.layers:\n",
        "    layer.trainable=False"
      ]
    },
    {
      "cell_type": "code",
      "execution_count": null,
      "metadata": {
        "id": "yCSEdkFH5Aoy"
      },
      "outputs": [],
      "source": [
        "model=Sequential()\n",
        "model.add(base_model)\n",
        "model.add(Dropout(0.5))\n",
        "model.add(Flatten())\n",
        "model.add(BatchNormalization())\n",
        "model.add(Dense(64,kernel_initializer='he_uniform'))\n",
        "model.add(BatchNormalization())\n",
        "model.add(Activation('relu'))\n",
        "model.add(Dropout(0.5))\n",
        "model.add(Dense(64,kernel_initializer='he_uniform'))\n",
        "model.add(BatchNormalization())\n",
        "model.add(Activation('relu'))\n",
        "model.add(Dropout(0.5))\n",
        "model.add(Dense(64,kernel_initializer='he_uniform'))\n",
        "model.add(BatchNormalization())\n",
        "model.add(Activation('relu'))\n",
        "model.add(Dropout(0.5))\n",
        "model.add(Dense(32,kernel_initializer='he_uniform'))\n",
        "model.add(BatchNormalization())\n",
        "model.add(Activation('relu'))\n",
        "model.add(Dropout(0.5))\n",
        "model.add(Dense(32,kernel_initializer='he_uniform'))\n",
        "model.add(BatchNormalization())\n",
        "model.add(Activation('relu'))\n",
        "model.add(Dense(4,activation='softmax'))\n"
      ]
    },
    {
      "cell_type": "code",
      "execution_count": null,
      "metadata": {
        "id": "l07fSXhc5Exy",
        "colab": {
          "base_uri": "https://localhost:8080/"
        },
        "outputId": "9fa220e5-f39e-4c34-e5ca-75985a0d6088"
      },
      "outputs": [
        {
          "output_type": "stream",
          "name": "stdout",
          "text": [
            "Model: \"sequential\"\n",
            "_________________________________________________________________\n",
            " Layer (type)                Output Shape              Param #   \n",
            "=================================================================\n",
            " densenet121 (Functional)    (None, 4, 4, 1024)        7037504   \n",
            "                                                                 \n",
            " dropout (Dropout)           (None, 4, 4, 1024)        0         \n",
            "                                                                 \n",
            " flatten (Flatten)           (None, 16384)             0         \n",
            "                                                                 \n",
            " batch_normalization (BatchN  (None, 16384)            65536     \n",
            " ormalization)                                                   \n",
            "                                                                 \n",
            " dense (Dense)               (None, 64)                1048640   \n",
            "                                                                 \n",
            " batch_normalization_1 (Batc  (None, 64)               256       \n",
            " hNormalization)                                                 \n",
            "                                                                 \n",
            " activation (Activation)     (None, 64)                0         \n",
            "                                                                 \n",
            " dropout_1 (Dropout)         (None, 64)                0         \n",
            "                                                                 \n",
            " dense_1 (Dense)             (None, 64)                4160      \n",
            "                                                                 \n",
            " batch_normalization_2 (Batc  (None, 64)               256       \n",
            " hNormalization)                                                 \n",
            "                                                                 \n",
            " activation_1 (Activation)   (None, 64)                0         \n",
            "                                                                 \n",
            " dropout_2 (Dropout)         (None, 64)                0         \n",
            "                                                                 \n",
            " dense_2 (Dense)             (None, 64)                4160      \n",
            "                                                                 \n",
            " batch_normalization_3 (Batc  (None, 64)               256       \n",
            " hNormalization)                                                 \n",
            "                                                                 \n",
            " activation_2 (Activation)   (None, 64)                0         \n",
            "                                                                 \n",
            " dropout_3 (Dropout)         (None, 64)                0         \n",
            "                                                                 \n",
            " dense_3 (Dense)             (None, 32)                2080      \n",
            "                                                                 \n",
            " batch_normalization_4 (Batc  (None, 32)               128       \n",
            " hNormalization)                                                 \n",
            "                                                                 \n",
            " activation_3 (Activation)   (None, 32)                0         \n",
            "                                                                 \n",
            " dropout_4 (Dropout)         (None, 32)                0         \n",
            "                                                                 \n",
            " dense_4 (Dense)             (None, 32)                1056      \n",
            "                                                                 \n",
            " batch_normalization_5 (Batc  (None, 32)               128       \n",
            " hNormalization)                                                 \n",
            "                                                                 \n",
            " activation_4 (Activation)   (None, 32)                0         \n",
            "                                                                 \n",
            " dense_5 (Dense)             (None, 4)                 132       \n",
            "                                                                 \n",
            "=================================================================\n",
            "Total params: 8,164,292\n",
            "Trainable params: 1,093,508\n",
            "Non-trainable params: 7,070,784\n",
            "_________________________________________________________________\n"
          ]
        }
      ],
      "source": [
        "model.summary()"
      ]
    },
    {
      "cell_type": "code",
      "execution_count": null,
      "metadata": {
        "id": "gJHgEKkW5HNm"
      },
      "outputs": [],
      "source": [
        "def f1_score(y_true, y_pred): #taken from old keras source code\n",
        "    true_positives = K.sum(K.round(K.clip(y_true * y_pred, 0, 1)))\n",
        "    possible_positives = K.sum(K.round(K.clip(y_true, 0, 1)))\n",
        "    predicted_positives = K.sum(K.round(K.clip(y_pred, 0, 1)))\n",
        "    precision = true_positives / (predicted_positives + K.epsilon())\n",
        "    recall = true_positives / (possible_positives + K.epsilon())\n",
        "    f1_val = 2*(precision*recall)/(precision+recall+K.epsilon())\n",
        "    return f1_val"
      ]
    },
    {
      "cell_type": "code",
      "execution_count": null,
      "metadata": {
        "id": "QLuFgPZS5I8c"
      },
      "outputs": [],
      "source": [
        "METRICS = [\n",
        "      tf.keras.metrics.BinaryAccuracy(name='accuracy'),\n",
        "      tf.keras.metrics.Precision(name='precision'),\n",
        "      tf.keras.metrics.Recall(name='recall'),  \n",
        "      tf.keras.metrics.AUC(name='auc'),\n",
        "        f1_score,\n",
        "]"
      ]
    },
    {
      "cell_type": "code",
      "execution_count": null,
      "metadata": {
        "id": "vf-QS_1G5Kue"
      },
      "outputs": [],
      "source": [
        "def exponential_decay(lr0, s):\n",
        "    def exponential_decay_fn(epoch):\n",
        "        return lr0 * 0.01 **(epoch / s)\n",
        "    return exponential_decay_fn\n",
        "\n",
        "exponential_decay_fn = exponential_decay(0.01, 5) \n",
        "\n",
        "lr_scheduler = tf.keras.callbacks.LearningRateScheduler(exponential_decay_fn)"
      ]
    },
    {
      "cell_type": "code",
      "execution_count": null,
      "metadata": {
        "id": "64RBy-X95Mwl"
      },
      "outputs": [],
      "source": [
        "model.compile(optimizer='rmsprop', loss='categorical_crossentropy',metrics=METRICS)"
      ]
    },
    {
      "cell_type": "code",
      "execution_count": null,
      "metadata": {
        "colab": {
          "base_uri": "https://localhost:8080/"
        },
        "id": "hJo1YVEj5QMu",
        "outputId": "bc08febd-14d4-4dcf-d20d-ad1efee03dee"
      },
      "outputs": [
        {
          "output_type": "stream",
          "name": "stdout",
          "text": [
            "Epoch 1/25\n",
            "129/129 [==============================] - 112s 812ms/step - loss: 1.0507 - accuracy: 0.7537 - precision: 0.5190 - recall: 0.1999 - auc: 0.7797 - f1_score: 0.3021 - val_loss: 1.1086 - val_accuracy: 0.7661 - val_precision: 0.5927 - val_recall: 0.2063 - val_auc: 0.7571 - val_f1_score: 0.3020 - lr: 0.0100\n",
            "Epoch 2/25\n",
            "129/129 [==============================] - 27s 212ms/step - loss: 1.0270 - accuracy: 0.7586 - precision: 0.5430 - recall: 0.2172 - auc: 0.7895 - f1_score: 0.3011 - val_loss: 1.0658 - val_accuracy: 0.7774 - val_precision: 0.6041 - val_recall: 0.3177 - val_auc: 0.7793 - val_f1_score: 0.4142 - lr: 0.0040\n",
            "Epoch 3/25\n",
            "129/129 [==============================] - 26s 201ms/step - loss: 1.0093 - accuracy: 0.7714 - precision: 0.6175 - recall: 0.2250 - auc: 0.7970 - f1_score: 0.3247 - val_loss: 1.0372 - val_accuracy: 0.7737 - val_precision: 0.7389 - val_recall: 0.1466 - val_auc: 0.7933 - val_f1_score: 0.2411 - lr: 0.0016\n",
            "Epoch 4/25\n",
            "129/129 [==============================] - 26s 199ms/step - loss: 0.9982 - accuracy: 0.7756 - precision: 0.6618 - recall: 0.2096 - auc: 0.8022 - f1_score: 0.3147 - val_loss: 1.0276 - val_accuracy: 0.7752 - val_precision: 0.7289 - val_recall: 0.1603 - val_auc: 0.7970 - val_f1_score: 0.2585 - lr: 6.3096e-04\n",
            "Epoch 5/25\n",
            "129/129 [==============================] - 25s 197ms/step - loss: 0.9932 - accuracy: 0.7778 - precision: 0.6796 - recall: 0.2101 - auc: 0.8023 - f1_score: 0.3245 - val_loss: 1.0243 - val_accuracy: 0.7759 - val_precision: 0.7454 - val_recall: 0.1574 - val_auc: 0.7987 - val_f1_score: 0.2554 - lr: 2.5119e-04\n",
            "Epoch 6/25\n",
            "129/129 [==============================] - 25s 197ms/step - loss: 0.9868 - accuracy: 0.7805 - precision: 0.6833 - recall: 0.2274 - auc: 0.8056 - f1_score: 0.3421 - val_loss: 1.0217 - val_accuracy: 0.7771 - val_precision: 0.7342 - val_recall: 0.1701 - val_auc: 0.8000 - val_f1_score: 0.2716 - lr: 1.0000e-04\n",
            "Epoch 7/25\n",
            "129/129 [==============================] - 25s 197ms/step - loss: 0.9896 - accuracy: 0.7784 - precision: 0.6726 - recall: 0.2211 - auc: 0.8038 - f1_score: 0.3337 - val_loss: 1.0223 - val_accuracy: 0.7754 - val_precision: 0.7385 - val_recall: 0.1574 - val_auc: 0.8002 - val_f1_score: 0.2546 - lr: 3.9811e-05\n",
            "Epoch 8/25\n",
            "129/129 [==============================] - 25s 196ms/step - loss: 0.9911 - accuracy: 0.7765 - precision: 0.6603 - recall: 0.2186 - auc: 0.8040 - f1_score: 0.3292 - val_loss: 1.0228 - val_accuracy: 0.7759 - val_precision: 0.7387 - val_recall: 0.1603 - val_auc: 0.7996 - val_f1_score: 0.2565 - lr: 1.5849e-05\n",
            "Epoch 9/25\n",
            "129/129 [==============================] - 25s 195ms/step - loss: 0.9931 - accuracy: 0.7782 - precision: 0.6709 - recall: 0.2213 - auc: 0.8036 - f1_score: 0.3289 - val_loss: 1.0236 - val_accuracy: 0.7761 - val_precision: 0.7357 - val_recall: 0.1632 - val_auc: 0.7988 - val_f1_score: 0.2618 - lr: 6.3096e-06\n",
            "Epoch 10/25\n",
            "129/129 [==============================] - 25s 197ms/step - loss: 0.9871 - accuracy: 0.7783 - precision: 0.6686 - recall: 0.2245 - auc: 0.8050 - f1_score: 0.3366 - val_loss: 1.0226 - val_accuracy: 0.7769 - val_precision: 0.7331 - val_recall: 0.1691 - val_auc: 0.7995 - val_f1_score: 0.2713 - lr: 2.5119e-06\n",
            "Epoch 11/25\n",
            "129/129 [==============================] - 26s 199ms/step - loss: 0.9943 - accuracy: 0.7769 - precision: 0.6627 - recall: 0.2191 - auc: 0.8037 - f1_score: 0.3310 - val_loss: 1.0222 - val_accuracy: 0.7766 - val_precision: 0.7319 - val_recall: 0.1681 - val_auc: 0.7996 - val_f1_score: 0.2692 - lr: 1.0000e-06\n",
            "Epoch 12/25\n",
            "129/129 [==============================] - 26s 199ms/step - loss: 0.9940 - accuracy: 0.7793 - precision: 0.6767 - recall: 0.2243 - auc: 0.8048 - f1_score: 0.3403 - val_loss: 1.0231 - val_accuracy: 0.7771 - val_precision: 0.7342 - val_recall: 0.1701 - val_auc: 0.7995 - val_f1_score: 0.2700 - lr: 3.9811e-07\n",
            "Epoch 13/25\n",
            "129/129 [==============================] - 25s 196ms/step - loss: 0.9880 - accuracy: 0.7789 - precision: 0.6743 - recall: 0.2233 - auc: 0.8050 - f1_score: 0.3311 - val_loss: 1.0234 - val_accuracy: 0.7752 - val_precision: 0.7418 - val_recall: 0.1544 - val_auc: 0.7991 - val_f1_score: 0.2530 - lr: 1.5849e-07\n",
            "Epoch 14/25\n",
            "129/129 [==============================] - 26s 204ms/step - loss: 0.9924 - accuracy: 0.7770 - precision: 0.6608 - recall: 0.2216 - auc: 0.8036 - f1_score: 0.3328 - val_loss: 1.0243 - val_accuracy: 0.7752 - val_precision: 0.7418 - val_recall: 0.1544 - val_auc: 0.7993 - val_f1_score: 0.2502 - lr: 6.3096e-08\n",
            "Epoch 15/25\n",
            "129/129 [==============================] - 25s 195ms/step - loss: 0.9869 - accuracy: 0.7786 - precision: 0.6708 - recall: 0.2243 - auc: 0.8043 - f1_score: 0.3369 - val_loss: 1.0221 - val_accuracy: 0.7761 - val_precision: 0.7357 - val_recall: 0.1632 - val_auc: 0.7998 - val_f1_score: 0.2624 - lr: 2.5119e-08\n",
            "Epoch 16/25\n",
            "129/129 [==============================] - 25s 195ms/step - loss: 0.9921 - accuracy: 0.7785 - precision: 0.6713 - recall: 0.2233 - auc: 0.8033 - f1_score: 0.3360 - val_loss: 1.0229 - val_accuracy: 0.7754 - val_precision: 0.7385 - val_recall: 0.1574 - val_auc: 0.7998 - val_f1_score: 0.2550 - lr: 1.0000e-08\n",
            "Epoch 17/25\n",
            "129/129 [==============================] - 25s 195ms/step - loss: 1.0002 - accuracy: 0.7763 - precision: 0.6523 - recall: 0.2252 - auc: 0.8016 - f1_score: 0.3343 - val_loss: 1.0217 - val_accuracy: 0.7771 - val_precision: 0.7322 - val_recall: 0.1711 - val_auc: 0.8000 - val_f1_score: 0.2731 - lr: 3.9811e-09\n",
            "Epoch 18/25\n",
            "129/129 [==============================] - 25s 196ms/step - loss: 0.9902 - accuracy: 0.7800 - precision: 0.6745 - recall: 0.2316 - auc: 0.8048 - f1_score: 0.3454 - val_loss: 1.0231 - val_accuracy: 0.7766 - val_precision: 0.7300 - val_recall: 0.1691 - val_auc: 0.7989 - val_f1_score: 0.2698 - lr: 1.5849e-09\n",
            "Epoch 19/25\n",
            "129/129 [==============================] - 25s 194ms/step - loss: 0.9936 - accuracy: 0.7772 - precision: 0.6659 - recall: 0.2184 - auc: 0.8033 - f1_score: 0.3293 - val_loss: 1.0235 - val_accuracy: 0.7759 - val_precision: 0.7284 - val_recall: 0.1652 - val_auc: 0.7987 - val_f1_score: 0.2646 - lr: 6.3096e-10\n",
            "Epoch 20/25\n",
            "129/129 [==============================] - 25s 194ms/step - loss: 0.9917 - accuracy: 0.7794 - precision: 0.6780 - recall: 0.2240 - auc: 0.8050 - f1_score: 0.3375 - val_loss: 1.0241 - val_accuracy: 0.7749 - val_precision: 0.7339 - val_recall: 0.1564 - val_auc: 0.7997 - val_f1_score: 0.2521 - lr: 2.5119e-10\n",
            "Epoch 21/25\n",
            "129/129 [==============================] - 25s 195ms/step - loss: 0.9840 - accuracy: 0.7799 - precision: 0.6815 - recall: 0.2245 - auc: 0.8070 - f1_score: 0.3408 - val_loss: 1.0241 - val_accuracy: 0.7754 - val_precision: 0.7453 - val_recall: 0.1544 - val_auc: 0.7988 - val_f1_score: 0.2523 - lr: 1.0000e-10\n",
            "Epoch 22/25\n",
            "129/129 [==============================] - 25s 194ms/step - loss: 0.9884 - accuracy: 0.7784 - precision: 0.6701 - recall: 0.2240 - auc: 0.8067 - f1_score: 0.3321 - val_loss: 1.0236 - val_accuracy: 0.7749 - val_precision: 0.7361 - val_recall: 0.1554 - val_auc: 0.7994 - val_f1_score: 0.2532 - lr: 3.9811e-11\n",
            "Epoch 23/25\n",
            "129/129 [==============================] - 25s 194ms/step - loss: 0.9866 - accuracy: 0.7796 - precision: 0.6733 - recall: 0.2299 - auc: 0.8063 - f1_score: 0.3389 - val_loss: 1.0232 - val_accuracy: 0.7752 - val_precision: 0.7352 - val_recall: 0.1574 - val_auc: 0.7997 - val_f1_score: 0.2555 - lr: 1.5849e-11\n",
            "Epoch 24/25\n",
            "129/129 [==============================] - 25s 196ms/step - loss: 0.9914 - accuracy: 0.7785 - precision: 0.6726 - recall: 0.2221 - auc: 0.8056 - f1_score: 0.3303 - val_loss: 1.0241 - val_accuracy: 0.7749 - val_precision: 0.7383 - val_recall: 0.1544 - val_auc: 0.7987 - val_f1_score: 0.2523 - lr: 6.3096e-12\n",
            "Epoch 25/25\n",
            "129/129 [==============================] - 26s 200ms/step - loss: 0.9901 - accuracy: 0.7781 - precision: 0.6681 - recall: 0.2235 - auc: 0.8051 - f1_score: 0.3364 - val_loss: 1.0240 - val_accuracy: 0.7752 - val_precision: 0.7418 - val_recall: 0.1544 - val_auc: 0.7980 - val_f1_score: 0.2540 - lr: 2.5119e-12\n"
          ]
        }
      ],
      "source": [
        "history=model.fit(train_dataset,\n",
        "                        validation_data=valid_dataset,\n",
        "                        epochs = 25,\n",
        "                        verbose = 1,\n",
        "                         callbacks=lr_scheduler)"
      ]
    },
    {
      "cell_type": "code",
      "execution_count": null,
      "metadata": {
        "colab": {
          "base_uri": "https://localhost:8080/",
          "height": 370
        },
        "id": "ddrtOofG5Qpk",
        "outputId": "09e433e7-dd1e-4a05-c780-21fd35c2fcff"
      },
      "outputs": [
        {
          "output_type": "display_data",
          "data": {
            "text/plain": [
              "<Figure size 1440x360 with 5 Axes>"
            ],
            "image/png": "[encoded data removed]"
          },
          "metadata": {
            "needs_background": "light"
          }
        }
      ],
      "source": [
        "def Train_Val_Plot(acc,val_acc,loss,val_loss,auc,val_auc,precision,val_precision,f1,val_f1):\n",
        "    \n",
        "    fig, (ax1, ax2,ax3,ax4,ax5) = plt.subplots(1,5, figsize= (20,5))\n",
        "    fig.suptitle(\" MODEL'S METRICS VISUALIZATION \")\n",
        "\n",
        "    ax1.plot(range(1, len(acc) + 1), acc)\n",
        "    ax1.plot(range(1, len(val_acc) + 1), val_acc)\n",
        "    ax1.set_title('History of Accuracy')\n",
        "    ax1.set_xlabel('Epochs')\n",
        "    ax1.set_ylabel('Accuracy')\n",
        "    ax1.legend(['training', 'validation'])\n",
        "    \n",
        "    ax2.plot(range(1, len(loss) + 1), loss)\n",
        "    ax2.plot(range(1, len(val_loss) + 1), val_loss)\n",
        "    ax2.set_title('History of Loss')\n",
        "    ax2.set_xlabel('Epochs')\n",
        "    ax2.set_ylabel('Loss')\n",
        "    ax2.legend(['training', 'validation'])\n",
        "    \n",
        "    ax3.plot(range(1, len(auc) + 1), auc)\n",
        "    ax3.plot(range(1, len(val_auc) + 1), val_auc)\n",
        "    ax3.set_title('History of AUC')\n",
        "    ax3.set_xlabel('Epochs')\n",
        "    ax3.set_ylabel('AUC')\n",
        "    ax3.legend(['training', 'validation'])\n",
        "       \n",
        "    ax4.plot(range(1, len(precision) + 1), precision)\n",
        "    ax4.plot(range(1, len(val_precision) + 1), val_precision)\n",
        "    ax4.set_title('History of Precision')\n",
        "    ax4.set_xlabel('Epochs')\n",
        "    ax4.set_ylabel('Precision')\n",
        "    ax4.legend(['training', 'validation'])\n",
        "    \n",
        "    ax5.plot(range(1, len(f1) + 1), f1)\n",
        "    ax5.plot(range(1, len(val_f1) + 1), val_f1)\n",
        "    ax5.set_title('History of F1-score')\n",
        "    ax5.set_xlabel('Epochs')\n",
        "    ax5.set_ylabel('F1 score')\n",
        "    ax5.legend(['training', 'validation'])\n",
        "\n",
        "\n",
        "    plt.show()\n",
        "  \n",
        "Train_Val_Plot(history.history['accuracy'],history.history['val_accuracy'],\n",
        "               history.history['loss'],history.history['val_loss'],\n",
        "               history.history['auc'],history.history['val_auc'],\n",
        "               history.history['precision'],history.history['val_precision'],\n",
        "               history.history['f1_score'],history.history['val_f1_score']\n",
        "              )"
      ]
    },
    {
      "cell_type": "code",
      "execution_count": null,
      "metadata": {
        "colab": {
          "base_uri": "https://localhost:8080/"
        },
        "id": "Ki72SQtE5dkp",
        "outputId": "2c2b7981-8053-4bd1-b2b0-ed7ffb3a8be6"
      },
      "outputs": [
        {
          "output_type": "stream",
          "name": "stderr",
          "text": [
            "/usr/local/lib/python3.7/dist-packages/ipykernel_launcher.py:1: UserWarning: `Model.evaluate_generator` is deprecated and will be removed in a future version. Please use `Model.evaluate`, which supports generators.\n",
            "  \"\"\"Entry point for launching an IPython kernel.\n"
          ]
        }
      ],
      "source": [
        "scores = model.evaluate_generator(test_dataset)"
      ]
    },
    {
      "cell_type": "code",
      "execution_count": null,
      "metadata": {
        "colab": {
          "base_uri": "https://localhost:8080/"
        },
        "id": "4UsHEPKx5fi8",
        "outputId": "266d1cf6-ded5-464b-b2f5-3e2f6dd58875"
      },
      "outputs": [
        {
          "output_type": "stream",
          "name": "stdout",
          "text": [
            "Accuracy =  0.7740422487258911\n",
            "Precision =  0.7639485001564026\n",
            "Recall =  0.13917122781276703\n",
            "AUC =  0.809532105922699\n",
            "F1_score =  0.23067545890808105\n"
          ]
        }
      ],
      "source": [
        "print(\"Accuracy = \", scores[1])\n",
        "print(\"Precision = \", scores[2])\n",
        "print(\"Recall = \", scores[3])\n",
        "print(\"AUC = \", scores[4])\n",
        "print(\"F1_score = \", scores[5])"
      ]
    }
  ],
  "metadata": {
    "colab": {
      "collapsed_sections": [],
      "name": "DenseNet121.ipynb",
      "provenance": [],
      "authorship_tag": "ABX9TyPUYa703VAqQqDYaSCniieF",
      "include_colab_link": true
    },
    "kernelspec": {
      "display_name": "Python 3",
      "name": "python3"
    },
    "language_info": {
      "name": "python"
    },
    "accelerator": "GPU",
    "gpuClass": "standard"
  },
  "nbformat": 4,
  "nbformat_minor": 0
}
