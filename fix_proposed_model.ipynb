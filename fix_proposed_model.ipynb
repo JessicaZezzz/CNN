{
  "cells": [
    {
      "cell_type": "code",
      "execution_count": 1,
      "metadata": {
        "colab": {
          "base_uri": "https://localhost:8080/"
        },
        "id": "1s3CSe1MrSqs",
        "outputId": "4c7e8de3-e5a4-4863-97e0-398044b91527"
      },
      "outputs": [
        {
          "output_type": "stream",
          "name": "stdout",
          "text": [
            "Mounted at /content/drive/\n"
          ]
        }
      ],
      "source": [
        "from google.colab import drive\n",
        "drive.mount(\"/content/drive/\")"
      ],
      "id": "1s3CSe1MrSqs"
    },
    {
      "cell_type": "code",
      "execution_count": 2,
      "metadata": {
        "id": "09a48e5e"
      },
      "outputs": [],
      "source": [
        "# This Python 3 environment comes with many helpful analytics libraries installed\n",
        "# It is defined by the kaggle/python Docker image: https://github.com/kaggle/docker-python\n",
        "# For example, here's several helpful packages to load\n",
        "\n",
        "import numpy as np # linear algebra\n",
        "import pandas as pd # data processing, CSV file I/O (e.g. pd.read_csv)\n",
        "\n",
        "\n",
        "import os"
      ],
      "id": "09a48e5e"
    },
    {
      "cell_type": "code",
      "execution_count": 3,
      "metadata": {
        "id": "c159223d"
      },
      "outputs": [],
      "source": [
        "#import libraries to look at the images\n",
        "import matplotlib.pyplot as plt\n",
        "from PIL import Image"
      ],
      "id": "c159223d"
    },
    {
      "cell_type": "code",
      "execution_count": 4,
      "metadata": {
        "id": "12ff1b50"
      },
      "outputs": [],
      "source": [
        "data_src=\"/content/drive/MyDrive/Dataset/\""
      ],
      "id": "12ff1b50"
    },
    {
      "cell_type": "markdown",
      "metadata": {
        "id": "7f132fcc"
      },
      "source": [
        "First we load each image into a list, and save the corresponding label in another list"
      ],
      "id": "7f132fcc"
    },
    {
      "cell_type": "code",
      "execution_count": 5,
      "metadata": {
        "id": "f563be93"
      },
      "outputs": [],
      "source": [
        "data=[]\n",
        "y=[]\n",
        "for d in os.listdir(data_src):\n",
        "    for file in os.listdir(data_src+d):\n",
        "        data.append(Image.open(data_src+d+'/'+file))\n",
        "        y.append(d)"
      ],
      "id": "f563be93"
    },
    {
      "cell_type": "markdown",
      "metadata": {
        "id": "b8ffbc49"
      },
      "source": [
        "Convert each image into a numpy array"
      ],
      "id": "b8ffbc49"
    },
    {
      "cell_type": "code",
      "execution_count": 6,
      "metadata": {
        "id": "278a2bbb"
      },
      "outputs": [],
      "source": [
        "X=[]\n",
        "for im in data:\n",
        "    X.append(np.array(im))"
      ],
      "id": "278a2bbb"
    },
    {
      "cell_type": "code",
      "execution_count": 7,
      "metadata": {
        "id": "85e6fd8b"
      },
      "outputs": [],
      "source": [
        "#Convert the list of data into an array\n",
        "X=np.array(X)"
      ],
      "id": "85e6fd8b"
    },
    {
      "cell_type": "code",
      "execution_count": 8,
      "metadata": {
        "colab": {
          "base_uri": "https://localhost:8080/"
        },
        "id": "66ba5e5f",
        "outputId": "94946fb4-a873-405e-a851-7720675d39fd"
      },
      "outputs": [
        {
          "output_type": "execute_result",
          "data": {
            "text/plain": [
              "(6400, 128, 128)"
            ]
          },
          "metadata": {},
          "execution_count": 8
        }
      ],
      "source": [
        "X.shape"
      ],
      "id": "66ba5e5f"
    },
    {
      "cell_type": "code",
      "execution_count": 9,
      "metadata": {
        "id": "3463c489"
      },
      "outputs": [],
      "source": [
        "#Divide by 255 to standardize the values between 0 and 1\n",
        "X=X/255"
      ],
      "id": "3463c489"
    },
    {
      "cell_type": "code",
      "execution_count": 10,
      "metadata": {
        "id": "cb940364"
      },
      "outputs": [],
      "source": [
        "from sklearn.model_selection import train_test_split"
      ],
      "id": "cb940364"
    },
    {
      "cell_type": "code",
      "execution_count": 11,
      "metadata": {
        "id": "28fbba69"
      },
      "outputs": [],
      "source": [
        "from tensorflow.keras.models import Sequential\n",
        "from tensorflow.keras.layers import Dense,Conv2D,MaxPooling2D,Flatten\n",
        "from tensorflow.keras.utils import to_categorical"
      ],
      "id": "28fbba69"
    },
    {
      "cell_type": "code",
      "execution_count": 12,
      "metadata": {
        "colab": {
          "base_uri": "https://localhost:8080/"
        },
        "id": "d0c7c561",
        "outputId": "80c4b8ad-c156-41e5-abf8-9e4d7d0bbf18"
      },
      "outputs": [
        {
          "output_type": "stream",
          "name": "stdout",
          "text": [
            "Non Demented:  3200\n",
            "Very Mild:  2240\n",
            "Moderate:  64\n",
            "Mild : 896\n"
          ]
        }
      ],
      "source": [
        "#Let's count how many of each category we have\n",
        "non=0\n",
        "mild=0\n",
        "mod=0\n",
        "vm=0\n",
        "for cat in y:\n",
        "    if cat==\"Mild_Demented\":\n",
        "        mild+=1\n",
        "    elif cat==\"Moderate_Demented\":\n",
        "        mod+=1\n",
        "    elif cat==\"Non_Demented\":\n",
        "        non+=1\n",
        "    else:\n",
        "        vm+=1\n",
        "print(\"Non Demented: \",non)\n",
        "print(\"Very Mild: \",vm)\n",
        "print(\"Moderate: \",mod)\n",
        "print(\"Mild :\",mild)"
      ],
      "id": "d0c7c561"
    },
    {
      "cell_type": "code",
      "execution_count": 13,
      "metadata": {
        "id": "8abd1459"
      },
      "outputs": [],
      "source": [
        "#Now we change these values to numerical ones so that we can use to_categorical\n",
        "#0 will be non, 1 will be very mild, 2 will be mild, 3 will be moderate\n",
        "y_num=[]\n",
        "for cat in y:\n",
        "    if cat==\"Mild_Demented\":\n",
        "        y_num.append(2)\n",
        "    elif cat==\"Moderate_Demented\":\n",
        "        y_num.append(3)\n",
        "    elif cat==\"Non_Demented\":\n",
        "        y_num.append(0)\n",
        "    else:\n",
        "        y_num.append(1)"
      ],
      "id": "8abd1459"
    },
    {
      "cell_type": "code",
      "execution_count": 14,
      "metadata": {
        "id": "1e15c539"
      },
      "outputs": [],
      "source": [
        "#convert to a categorical target as expected by keras\n",
        "y=to_categorical(y_num)"
      ],
      "id": "1e15c539"
    },
    {
      "cell_type": "code",
      "execution_count": 15,
      "metadata": {
        "id": "98820252",
        "colab": {
          "base_uri": "https://localhost:8080/"
        },
        "outputId": "d27579ce-1a3f-42ff-b0ab-c3f3f82673e3"
      },
      "outputs": [
        {
          "output_type": "execute_result",
          "data": {
            "text/plain": [
              "(6400, 4)"
            ]
          },
          "metadata": {},
          "execution_count": 15
        }
      ],
      "source": [
        "y.shape"
      ],
      "id": "98820252"
    },
    {
      "cell_type": "code",
      "execution_count": 16,
      "metadata": {
        "id": "edd022c6"
      },
      "outputs": [],
      "source": [
        "#Reshape to use in a neural network\n",
        "X=X.reshape(6400,128,128,1)"
      ],
      "id": "edd022c6"
    },
    {
      "cell_type": "code",
      "execution_count": 17,
      "metadata": {
        "id": "28a72bc9"
      },
      "outputs": [],
      "source": [
        "#Split into a training set and test set\n",
        "X_train,X_test,y_train,y_test=train_test_split(X,y,test_size=0.25,random_state=42)"
      ],
      "id": "28a72bc9"
    },
    {
      "cell_type": "code",
      "execution_count": 18,
      "metadata": {
        "id": "3220b110",
        "colab": {
          "base_uri": "https://localhost:8080/"
        },
        "outputId": "0b426f51-9c7b-49cb-ab46-42d429995f56"
      },
      "outputs": [
        {
          "output_type": "stream",
          "name": "stdout",
          "text": [
            "(4800, 128, 128, 1) (1600, 128, 128, 1) (4800, 4) (1600, 4)\n"
          ]
        }
      ],
      "source": [
        "print(X_train.shape,X_test.shape,y_train.shape,y_test.shape)"
      ],
      "id": "3220b110"
    },
    {
      "cell_type": "markdown",
      "metadata": {
        "id": "LkvA3IJG1Fxq"
      },
      "source": [
        "**Proposed Model**"
      ],
      "id": "LkvA3IJG1Fxq"
    },
    {
      "cell_type": "code",
      "execution_count": 19,
      "metadata": {
        "id": "7TRTsqldSGdf"
      },
      "outputs": [],
      "source": [
        "#yg model ini dirun\n",
        "from keras.models import Sequential\n",
        "from keras.layers import Dense, Dropout, Flatten\n",
        "from keras.layers import Conv2D, MaxPooling2D, BatchNormalization\n",
        "cnn = Sequential()\n",
        "cnn.add(Conv2D(64,(3,3),padding=\"same\",activation='relu',input_shape=X_train.shape[1:]))\n",
        "cnn.add(Conv2D(64, (3, 3), activation='relu'))\n",
        "cnn.add(Dropout(0.2))\n",
        "cnn.add(MaxPooling2D((2, 2)))\n",
        "cnn.add(Conv2D(32, (3, 3), activation='relu'))\n",
        "cnn.add(Conv2D(32, (3, 3), activation='relu'))\n",
        "cnn.add(Dropout(0.3))\n",
        "cnn.add(MaxPooling2D((2, 2)))\n",
        "cnn.add(Conv2D(32, (2,2), activation='relu'))\n",
        "cnn.add(Conv2D(32, (2,2), activation='relu'))\n",
        "cnn.add(Dropout(0.5))\n",
        "cnn.add(MaxPooling2D((2, 2)))\n",
        "cnn.add(Flatten())\n",
        "cnn.add(Dense(512, activation='relu'))\n",
        "cnn.add(Dense(512, activation='relu'))\n",
        "cnn.add(Dropout(0.5))\n",
        "cnn.add(Dense(4, activation='softmax'))"
      ],
      "id": "7TRTsqldSGdf"
    },
    {
      "cell_type": "code",
      "execution_count": 20,
      "metadata": {
        "id": "21e26c1b",
        "outputId": "6d3991ba-3f82-4966-a65f-40217a721365",
        "colab": {
          "base_uri": "https://localhost:8080/"
        }
      },
      "outputs": [
        {
          "output_type": "stream",
          "name": "stdout",
          "text": [
            "Model: \"sequential\"\n",
            "_________________________________________________________________\n",
            " Layer (type)                Output Shape              Param #   \n",
            "=================================================================\n",
            " conv2d (Conv2D)             (None, 128, 128, 64)      640       \n",
            "                                                                 \n",
            " conv2d_1 (Conv2D)           (None, 126, 126, 64)      36928     \n",
            "                                                                 \n",
            " dropout (Dropout)           (None, 126, 126, 64)      0         \n",
            "                                                                 \n",
            " max_pooling2d (MaxPooling2D  (None, 63, 63, 64)       0         \n",
            " )                                                               \n",
            "                                                                 \n",
            " conv2d_2 (Conv2D)           (None, 61, 61, 32)        18464     \n",
            "                                                                 \n",
            " conv2d_3 (Conv2D)           (None, 59, 59, 32)        9248      \n",
            "                                                                 \n",
            " dropout_1 (Dropout)         (None, 59, 59, 32)        0         \n",
            "                                                                 \n",
            " max_pooling2d_1 (MaxPooling  (None, 29, 29, 32)       0         \n",
            " 2D)                                                             \n",
            "                                                                 \n",
            " conv2d_4 (Conv2D)           (None, 28, 28, 32)        4128      \n",
            "                                                                 \n",
            " conv2d_5 (Conv2D)           (None, 27, 27, 32)        4128      \n",
            "                                                                 \n",
            " dropout_2 (Dropout)         (None, 27, 27, 32)        0         \n",
            "                                                                 \n",
            " max_pooling2d_2 (MaxPooling  (None, 13, 13, 32)       0         \n",
            " 2D)                                                             \n",
            "                                                                 \n",
            " flatten (Flatten)           (None, 5408)              0         \n",
            "                                                                 \n",
            " dense (Dense)               (None, 512)               2769408   \n",
            "                                                                 \n",
            " dense_1 (Dense)             (None, 512)               262656    \n",
            "                                                                 \n",
            " dropout_3 (Dropout)         (None, 512)               0         \n",
            "                                                                 \n",
            " dense_2 (Dense)             (None, 4)                 2052      \n",
            "                                                                 \n",
            "=================================================================\n",
            "Total params: 3,107,652\n",
            "Trainable params: 3,107,652\n",
            "Non-trainable params: 0\n",
            "_________________________________________________________________\n"
          ]
        }
      ],
      "source": [
        "cnn.summary()"
      ],
      "id": "21e26c1b"
    },
    {
      "cell_type": "code",
      "execution_count": 21,
      "metadata": {
        "id": "47b77fe1"
      },
      "outputs": [],
      "source": [
        "cnn.compile(optimizer='adam',loss='categorical_crossentropy',metrics='accuracy')"
      ],
      "id": "47b77fe1"
    },
    {
      "cell_type": "code",
      "execution_count": 22,
      "metadata": {
        "colab": {
          "base_uri": "https://localhost:8080/"
        },
        "id": "9243c85b",
        "outputId": "c41821a9-db8f-4d1a-b404-8f55263b7081"
      },
      "outputs": [
        {
          "output_type": "stream",
          "name": "stdout",
          "text": [
            "Epoch 1/20\n",
            "150/150 [==============================] - 23s 69ms/step - loss: 1.0538 - accuracy: 0.4900 - val_loss: 1.1337 - val_accuracy: 0.4619\n",
            "Epoch 2/20\n",
            "150/150 [==============================] - 10s 64ms/step - loss: 0.9362 - accuracy: 0.5612 - val_loss: 0.8887 - val_accuracy: 0.5981\n",
            "Epoch 3/20\n",
            "150/150 [==============================] - 10s 64ms/step - loss: 0.8445 - accuracy: 0.6137 - val_loss: 0.8731 - val_accuracy: 0.6294\n",
            "Epoch 4/20\n",
            "150/150 [==============================] - 10s 64ms/step - loss: 0.7439 - accuracy: 0.6573 - val_loss: 0.7694 - val_accuracy: 0.6581\n",
            "Epoch 5/20\n",
            "150/150 [==============================] - 10s 67ms/step - loss: 0.6208 - accuracy: 0.7219 - val_loss: 0.6006 - val_accuracy: 0.7681\n",
            "Epoch 6/20\n",
            "150/150 [==============================] - 10s 65ms/step - loss: 0.4992 - accuracy: 0.7885 - val_loss: 0.6352 - val_accuracy: 0.7113\n",
            "Epoch 7/20\n",
            "150/150 [==============================] - 10s 65ms/step - loss: 0.4219 - accuracy: 0.8356 - val_loss: 0.5038 - val_accuracy: 0.8456\n",
            "Epoch 8/20\n",
            "150/150 [==============================] - 10s 68ms/step - loss: 0.3297 - accuracy: 0.8698 - val_loss: 0.3830 - val_accuracy: 0.8700\n",
            "Epoch 9/20\n",
            "150/150 [==============================] - 10s 67ms/step - loss: 0.2517 - accuracy: 0.9044 - val_loss: 0.3675 - val_accuracy: 0.8731\n",
            "Epoch 10/20\n",
            "150/150 [==============================] - 10s 67ms/step - loss: 0.2045 - accuracy: 0.9252 - val_loss: 0.2680 - val_accuracy: 0.9325\n",
            "Epoch 11/20\n",
            "150/150 [==============================] - 10s 66ms/step - loss: 0.1761 - accuracy: 0.9331 - val_loss: 0.2985 - val_accuracy: 0.8838\n",
            "Epoch 12/20\n",
            "150/150 [==============================] - 10s 65ms/step - loss: 0.1474 - accuracy: 0.9481 - val_loss: 0.1923 - val_accuracy: 0.9425\n",
            "Epoch 13/20\n",
            "150/150 [==============================] - 10s 68ms/step - loss: 0.1261 - accuracy: 0.9552 - val_loss: 0.1851 - val_accuracy: 0.9519\n",
            "Epoch 14/20\n",
            "150/150 [==============================] - 10s 65ms/step - loss: 0.1235 - accuracy: 0.9567 - val_loss: 0.1721 - val_accuracy: 0.9506\n",
            "Epoch 15/20\n",
            "150/150 [==============================] - 10s 68ms/step - loss: 0.0827 - accuracy: 0.9729 - val_loss: 0.1063 - val_accuracy: 0.9688\n",
            "Epoch 16/20\n",
            "150/150 [==============================] - 10s 68ms/step - loss: 0.0921 - accuracy: 0.9671 - val_loss: 0.1654 - val_accuracy: 0.9475\n",
            "Epoch 17/20\n",
            "150/150 [==============================] - 10s 68ms/step - loss: 0.0880 - accuracy: 0.9692 - val_loss: 0.1492 - val_accuracy: 0.9488\n",
            "Epoch 18/20\n",
            "150/150 [==============================] - 10s 65ms/step - loss: 0.0686 - accuracy: 0.9760 - val_loss: 0.1713 - val_accuracy: 0.9413\n",
            "Epoch 19/20\n",
            "150/150 [==============================] - 10s 65ms/step - loss: 0.0705 - accuracy: 0.9779 - val_loss: 0.1025 - val_accuracy: 0.9731\n",
            "Epoch 20/20\n",
            "150/150 [==============================] - 10s 65ms/step - loss: 0.0467 - accuracy: 0.9829 - val_loss: 0.0691 - val_accuracy: 0.9762\n"
          ]
        }
      ],
      "source": [
        "#Train the Convolutional Neural Network on the data\n",
        "history=cnn.fit(X_train,y_train,epochs=20,validation_data=(X_test,y_test))"
      ],
      "id": "9243c85b"
    },
    {
      "cell_type": "code",
      "execution_count": 23,
      "metadata": {
        "colab": {
          "base_uri": "https://localhost:8080/",
          "height": 279
        },
        "id": "c4acb82f",
        "outputId": "747864e2-5a0d-4acc-b360-7bc06d16db7c"
      },
      "outputs": [
        {
          "output_type": "display_data",
          "data": {
            "text/plain": [
              "<Figure size 432x288 with 1 Axes>"
            ],
            "image/png": "[encoded data removed]"
          },
          "metadata": {
            "needs_background": "light"
          }
        }
      ],
      "source": [
        "#Plot to see how the loss function changed\n",
        "plt.plot(range(1,21),history.history['loss'],marker=\"o\")\n",
        "plt.plot(range(1,21),history.history['val_loss'],marker=\"o\")\n",
        "plt.legend([\"Training Loss\",\"Validation Loss\"])\n",
        "plt.xlabel(\"Epoch\")\n",
        "plt.xticks(range(1,21))\n",
        "plt.show()"
      ],
      "id": "c4acb82f"
    },
    {
      "cell_type": "code",
      "execution_count": 24,
      "metadata": {
        "colab": {
          "base_uri": "https://localhost:8080/",
          "height": 280
        },
        "id": "883a7383",
        "outputId": "d9c43da0-b777-4d90-9abd-1fcf1a9715f6"
      },
      "outputs": [
        {
          "output_type": "display_data",
          "data": {
            "text/plain": [
              "<Figure size 432x288 with 1 Axes>"
            ],
            "image/png": "[encoded data removed]"
          },
          "metadata": {
            "needs_background": "light"
          }
        }
      ],
      "source": [
        "#plot to see how the accuracy changed\n",
        "plt.plot(range(1,21),history.history['accuracy'],marker=\"o\")\n",
        "plt.plot(range(1,21),history.history['val_accuracy'],marker=\"o\")\n",
        "plt.legend([\"Training accuracy\",\"Validation accuracy\"])\n",
        "plt.xlabel(\"Epoch\")\n",
        "plt.xticks(range(1,21))\n",
        "plt.show()"
      ],
      "id": "883a7383"
    },
    {
      "cell_type": "code",
      "execution_count": 25,
      "metadata": {
        "id": "6d9f71ac"
      },
      "outputs": [],
      "source": [
        "#Get a prediction from the neural network\n",
        "y_pred=cnn.predict(X_test)"
      ],
      "id": "6d9f71ac"
    },
    {
      "cell_type": "code",
      "execution_count": 26,
      "metadata": {
        "id": "aa6808b2"
      },
      "outputs": [],
      "source": [
        "#The prediction is a sequence of 4 probabilities. We choose the label with the highest probability\n",
        "y_val=[]\n",
        "for y in y_pred:\n",
        "    y_val.append(np.argmax(y))"
      ],
      "id": "aa6808b2"
    },
    {
      "cell_type": "code",
      "execution_count": 27,
      "metadata": {
        "id": "1a027f1e"
      },
      "outputs": [],
      "source": [
        "from sklearn.metrics import confusion_matrix,classification_report"
      ],
      "id": "1a027f1e"
    },
    {
      "cell_type": "code",
      "execution_count": 28,
      "metadata": {
        "id": "e4314f3a"
      },
      "outputs": [],
      "source": [
        "#Convert back to labels 0-3\n",
        "y_true=[]\n",
        "for y in y_test:\n",
        "    y_true.append(np.argmax(y))"
      ],
      "id": "e4314f3a"
    },
    {
      "cell_type": "code",
      "execution_count": 29,
      "metadata": {
        "colab": {
          "base_uri": "https://localhost:8080/"
        },
        "id": "37d6bf2f",
        "outputId": "58359106-8e66-4089-ad1f-21d1e474672a"
      },
      "outputs": [
        {
          "output_type": "stream",
          "name": "stdout",
          "text": [
            "[[806  11   1   0]\n",
            " [ 17 511   5   0]\n",
            " [  2   2 237   0]\n",
            " [  0   0   0   8]]\n"
          ]
        }
      ],
      "source": [
        "#Let's see how the predictions did\n",
        "print(confusion_matrix(y_true,y_val))"
      ],
      "id": "37d6bf2f"
    },
    {
      "cell_type": "code",
      "execution_count": 30,
      "metadata": {
        "colab": {
          "base_uri": "https://localhost:8080/"
        },
        "id": "89229dee",
        "outputId": "be9a77c9-784a-4724-e791-7310fa1afc75"
      },
      "outputs": [
        {
          "output_type": "stream",
          "name": "stdout",
          "text": [
            "              precision    recall  f1-score   support\n",
            "\n",
            "           0       0.98      0.99      0.98       818\n",
            "           1       0.98      0.96      0.97       533\n",
            "           2       0.98      0.98      0.98       241\n",
            "           3       1.00      1.00      1.00         8\n",
            "\n",
            "    accuracy                           0.98      1600\n",
            "   macro avg       0.98      0.98      0.98      1600\n",
            "weighted avg       0.98      0.98      0.98      1600\n",
            "\n"
          ]
        }
      ],
      "source": [
        "print(classification_report(y_true,y_val))"
      ],
      "id": "89229dee"
    },
    {
      "cell_type": "code",
      "execution_count": 31,
      "metadata": {
        "id": "80305235"
      },
      "outputs": [],
      "source": [
        "from sklearn.metrics import accuracy_score"
      ],
      "id": "80305235"
    },
    {
      "cell_type": "code",
      "execution_count": 32,
      "metadata": {
        "colab": {
          "base_uri": "https://localhost:8080/"
        },
        "id": "04c42e22",
        "outputId": "83197a62-1177-4729-beed-b4da749b0dd3"
      },
      "outputs": [
        {
          "output_type": "stream",
          "name": "stdout",
          "text": [
            "Accuracy on test data:  0.97625\n"
          ]
        }
      ],
      "source": [
        "print(\"Accuracy on test data: \",accuracy_score(y_true,y_val))"
      ],
      "id": "04c42e22"
    }
  ],
  "metadata": {
    "colab": {
      "collapsed_sections": [],
      "name": "proposed_model.ipynb",
      "provenance": []
    },
    "gpuClass": "standard",
    "kernelspec": {
      "display_name": "Python 3",
      "language": "python",
      "name": "python3"
    },
    "language_info": {
      "codemirror_mode": {
        "name": "ipython",
        "version": 3
      },
      "file_extension": ".py",
      "mimetype": "text/x-python",
      "name": "python",
      "nbconvert_exporter": "python",
      "pygments_lexer": "ipython3",
      "version": "3.7.12"
    },
    "papermill": {
      "default_parameters": {},
      "duration": 100.383333,
      "end_time": "2022-04-21T14:33:59.474228",
      "environment_variables": {},
      "exception": null,
      "input_path": "__notebook__.ipynb",
      "output_path": "__notebook__.ipynb",
      "parameters": {},
      "start_time": "2022-04-21T14:32:19.090895",
      "version": "2.3.3"
    },
    "accelerator": "GPU"
  },
  "nbformat": 4,
  "nbformat_minor": 5
}