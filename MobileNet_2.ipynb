{
  "nbformat": 4,
  "nbformat_minor": 0,
  "metadata": {
    "colab": {
      "name": "MobileNet_2.ipynb",
      "provenance": [],
      "authorship_tag": "ABX9TyOVGORcdrfil3bFMe2q3Mh2",
      "include_colab_link": true
    },
    "kernelspec": {
      "name": "python3",
      "display_name": "Python 3"
    },
    "language_info": {
      "name": "python"
    }
  },
  "cells": [
    {
      "cell_type": "markdown",
      "metadata": {
        "id": "view-in-github",
        "colab_type": "text"
      },
      "source": [
        "<a href=\"https://colab.research.google.com/github/JessicaZezzz/CNN/blob/main/MobileNet_2.ipynb\" target=\"_parent\"><img src=\"https://colab.research.google.com/assets/colab-badge.svg\" alt=\"Open In Colab\"/></a>"
      ]
    },
    {
      "cell_type": "code",
      "execution_count": null,
      "metadata": {
        "colab": {
          "base_uri": "https://localhost:8080/"
        },
        "id": "1s3CSe1MrSqs",
        "outputId": "60faba19-2339-4f81-a233-8af67d70f8c0"
      },
      "outputs": [
        {
          "output_type": "stream",
          "name": "stdout",
          "text": [
            "Mounted at /content/drive/\n"
          ]
        }
      ],
      "source": [
        "from google.colab import drive\n",
        "drive.mount(\"/content/drive/\")"
      ]
    },
    {
      "cell_type": "code",
      "execution_count": null,
      "metadata": {
        "id": "09a48e5e"
      },
      "outputs": [],
      "source": [
        "# This Python 3 environment comes with many helpful analytics libraries installed\n",
        "# It is defined by the kaggle/python Docker image: https://github.com/kaggle/docker-python\n",
        "# For example, here's several helpful packages to load\n",
        "\n",
        "import numpy as np # linear algebra\n",
        "import pandas as pd # data processing, CSV file I/O (e.g. pd.read_csv)\n",
        "\n",
        "\n",
        "import os"
      ]
    },
    {
      "cell_type": "code",
      "execution_count": null,
      "metadata": {
        "id": "c159223d"
      },
      "outputs": [],
      "source": [
        "#import libraries to look at the images\n",
        "import matplotlib.pyplot as plt\n",
        "from PIL import Image"
      ]
    },
    {
      "cell_type": "code",
      "execution_count": null,
      "metadata": {
        "id": "12ff1b50"
      },
      "outputs": [],
      "source": [
        "data_src=\"/content/drive/MyDrive/Dataset_2/\""
      ]
    },
    {
      "cell_type": "markdown",
      "metadata": {
        "id": "7f132fcc"
      },
      "source": [
        "First we load each image into a list, and save the corresponding label in another list"
      ]
    },
    {
      "cell_type": "code",
      "execution_count": null,
      "metadata": {
        "id": "f563be93"
      },
      "outputs": [],
      "source": [
        "data=[]\n",
        "y=[]\n",
        "for d in os.listdir(data_src):\n",
        "    for file in os.listdir(data_src+d):\n",
        "        data.append(Image.open(data_src+d+'/'+file))\n",
        "        y.append(d)"
      ]
    },
    {
      "cell_type": "markdown",
      "metadata": {
        "id": "b8ffbc49"
      },
      "source": [
        "Convert each image into a numpy array"
      ]
    },
    {
      "cell_type": "code",
      "execution_count": null,
      "metadata": {
        "id": "278a2bbb"
      },
      "outputs": [],
      "source": [
        "X=[]\n",
        "for im in data:\n",
        "    X.append(np.array(im))"
      ]
    },
    {
      "cell_type": "code",
      "execution_count": null,
      "metadata": {
        "id": "85e6fd8b"
      },
      "outputs": [],
      "source": [
        "#Convert the list of data into an array\n",
        "X=np.array(X)"
      ]
    },
    {
      "cell_type": "code",
      "execution_count": null,
      "metadata": {
        "colab": {
          "base_uri": "https://localhost:8080/"
        },
        "id": "66ba5e5f",
        "outputId": "204b5713-ffe0-4f87-aa83-6c64f68f7c58"
      },
      "outputs": [
        {
          "output_type": "execute_result",
          "data": {
            "text/plain": [
              "(6400, 128, 128)"
            ]
          },
          "metadata": {},
          "execution_count": 8
        }
      ],
      "source": [
        "X.shape"
      ]
    },
    {
      "cell_type": "code",
      "execution_count": null,
      "metadata": {
        "id": "3463c489"
      },
      "outputs": [],
      "source": [
        "#Divide by 255 to standardize the values between 0 and 1\n",
        "X=X/255"
      ]
    },
    {
      "cell_type": "code",
      "execution_count": null,
      "metadata": {
        "id": "cb940364"
      },
      "outputs": [],
      "source": [
        "from sklearn.model_selection import train_test_split"
      ]
    },
    {
      "cell_type": "code",
      "execution_count": null,
      "metadata": {
        "id": "28fbba69"
      },
      "outputs": [],
      "source": [
        "from tensorflow.keras.models import Sequential\n",
        "from tensorflow.keras.layers import Dense,Conv2D,MaxPooling2D,Flatten\n",
        "from tensorflow.keras.utils import to_categorical"
      ]
    },
    {
      "cell_type": "code",
      "execution_count": null,
      "metadata": {
        "colab": {
          "base_uri": "https://localhost:8080/"
        },
        "id": "d0c7c561",
        "outputId": "1facba8d-88e0-484d-d76f-652f7f6e91aa"
      },
      "outputs": [
        {
          "output_type": "stream",
          "name": "stdout",
          "text": [
            "Non Demented:  3200\n",
            "Very Mild:  2240\n",
            "Moderate:  64\n",
            "Mild : 896\n"
          ]
        }
      ],
      "source": [
        "#Let's count how many of each category we have\n",
        "non=0\n",
        "mild=0\n",
        "mod=0\n",
        "vm=0\n",
        "for cat in y:\n",
        "    if cat==\"Mild_Demented\":\n",
        "        mild+=1\n",
        "    elif cat==\"Moderate_Demented\":\n",
        "        mod+=1\n",
        "    elif cat==\"Non_Demented\":\n",
        "        non+=1\n",
        "    else:\n",
        "        vm+=1\n",
        "print(\"Non Demented: \",non)\n",
        "print(\"Very Mild: \",vm)\n",
        "print(\"Moderate: \",mod)\n",
        "print(\"Mild :\",mild)"
      ]
    },
    {
      "cell_type": "code",
      "execution_count": null,
      "metadata": {
        "id": "8abd1459"
      },
      "outputs": [],
      "source": [
        "#Now we change these values to numerical ones so that we can use to_categorical\n",
        "#0 will be non, 1 will be very mild, 2 will be mild, 3 will be moderate\n",
        "y_num=[]\n",
        "for cat in y:\n",
        "    if cat==\"Mild_Demented\":\n",
        "        y_num.append(2)\n",
        "    elif cat==\"Moderate_Demented\":\n",
        "        y_num.append(3)\n",
        "    elif cat==\"Non_Demented\":\n",
        "        y_num.append(0)\n",
        "    else:\n",
        "        y_num.append(1)"
      ]
    },
    {
      "cell_type": "code",
      "execution_count": null,
      "metadata": {
        "id": "1e15c539"
      },
      "outputs": [],
      "source": [
        "#convert to a categorical target as expected by keras\n",
        "y=to_categorical(y_num)"
      ]
    },
    {
      "cell_type": "code",
      "execution_count": null,
      "metadata": {
        "colab": {
          "base_uri": "https://localhost:8080/"
        },
        "id": "98820252",
        "outputId": "d776942f-c7b6-4ef8-e727-8fe7ffb5156c"
      },
      "outputs": [
        {
          "output_type": "execute_result",
          "data": {
            "text/plain": [
              "(6400, 4)"
            ]
          },
          "metadata": {},
          "execution_count": 15
        }
      ],
      "source": [
        "y.shape"
      ]
    },
    {
      "cell_type": "code",
      "execution_count": null,
      "metadata": {
        "id": "edd022c6"
      },
      "outputs": [],
      "source": [
        "#Reshape to use in a neural network\n",
        "X=X.reshape(6400,128,128,1)"
      ]
    },
    {
      "cell_type": "code",
      "execution_count": null,
      "metadata": {
        "id": "28a72bc9"
      },
      "outputs": [],
      "source": [
        "#Split into a training set and test set\n",
        "X_train,X_test,y_train,y_test=train_test_split(X,y,test_size=0.25,random_state=42)"
      ]
    },
    {
      "cell_type": "code",
      "execution_count": null,
      "metadata": {
        "colab": {
          "base_uri": "https://localhost:8080/"
        },
        "id": "3220b110",
        "outputId": "3553b08a-f78c-4fab-8fbc-1b7be7441c05"
      },
      "outputs": [
        {
          "output_type": "stream",
          "name": "stdout",
          "text": [
            "(4800, 128, 128, 1) (1600, 128, 128, 1) (4800, 4) (1600, 4)\n"
          ]
        }
      ],
      "source": [
        "print(X_train.shape,X_test.shape,y_train.shape,y_test.shape)"
      ]
    },
    {
      "cell_type": "code",
      "execution_count": null,
      "metadata": {
        "id": "XD_bhKybCO6C"
      },
      "outputs": [],
      "source": [
        "import numpy as np\n",
        "import pandas as pd\n",
        "import matplotlib.pyplot as plt\n",
        "import seaborn as sn\n",
        "import skimage.io\n",
        "import os \n",
        "import tqdm\n",
        "import glob\n",
        "import tensorflow \n",
        "\n",
        "from tqdm import tqdm\n",
        "from sklearn.utils import shuffle\n",
        "from sklearn import metrics\n",
        "from sklearn.metrics import confusion_matrix, classification_report\n",
        "from sklearn.model_selection import train_test_split\n",
        "\n",
        "from skimage.io import imread, imshow\n",
        "from skimage.transform import resize\n",
        "from skimage.color import grey2rgb\n",
        "\n",
        "import tensorflow as tf\n",
        "from tensorflow.keras.preprocessing.image import ImageDataGenerator\n",
        "from tensorflow.keras.preprocessing import image_dataset_from_directory\n",
        "from tensorflow.keras.models import Sequential\n",
        "from tensorflow.keras.layers import InputLayer, BatchNormalization, Dropout, Flatten, Dense, Activation, MaxPool2D, Conv2D\n",
        "from tensorflow.keras.callbacks import EarlyStopping, ModelCheckpoint"
      ]
    },
    {
      "cell_type": "code",
      "execution_count": null,
      "metadata": {
        "id": "SlRbEO824awq"
      },
      "outputs": [],
      "source": [
        "from tensorflow.keras.applications.vgg16 import VGG16 # VGG16\n",
        "from tensorflow.keras.applications.vgg19 import VGG19 # VGG19\n",
        "from tensorflow.keras.applications.resnet50 import ResNet50 # ResNet50\n",
        "from tensorflow.keras.applications.xception import Xception # Xception\n",
        "from tensorflow.keras.applications.mobilenet import MobileNet # MobileNet\n",
        "from tensorflow.keras.applications.nasnet import NASNetMobile # NASNetMobile\n",
        "from tensorflow.keras.applications.densenet import DenseNet169 # DenseNet169\n",
        "from tensorflow.keras.applications.densenet import DenseNet121 # DenseNet121\n",
        "from tensorflow.keras.applications.mobilenet_v2 import MobileNetV2 # MobileNetV2\n",
        "from tensorflow.keras.applications.inception_v3 import InceptionV3\n",
        "from tensorflow.keras.utils import to_categorical\n",
        "from keras import optimizers\n",
        "\n",
        "from keras.callbacks import Callback,ModelCheckpoint\n",
        "from keras.models import Sequential,load_model\n",
        "from keras.layers import Dense, Dropout\n",
        "from keras.wrappers.scikit_learn import KerasClassifier\n",
        "import keras.backend as K\n",
        "from typeguard import typechecked\n",
        "from typing import Optional"
      ]
    },
    {
      "cell_type": "code",
      "execution_count": null,
      "metadata": {
        "colab": {
          "base_uri": "https://localhost:8080/"
        },
        "id": "AyLPdCxFcKVV",
        "outputId": "2514c72f-1c95-4866-f008-cfb356c08fd7"
      },
      "outputs": [
        {
          "output_type": "stream",
          "name": "stdout",
          "text": [
            "Model: \"model\"\n",
            "_________________________________________________________________\n",
            " Layer (type)                Output Shape              Param #   \n",
            "=================================================================\n",
            " input (InputLayer)          [(None, 128, 128, 1)]     0         \n",
            "                                                                 \n",
            " mobilenetv2_1.00_128 (Funct  (None, 1280)             2257408   \n",
            " ional)                                                          \n",
            "                                                                 \n",
            " dense (Dense)               (None, 4)                 5124      \n",
            "                                                                 \n",
            "=================================================================\n",
            "Total params: 2,262,532\n",
            "Trainable params: 2,228,420\n",
            "Non-trainable params: 34,112\n",
            "_________________________________________________________________\n"
          ]
        }
      ],
      "source": [
        "import keras\n",
        "from keras import applications\n",
        "from keras.layers import Conv3D, MaxPool3D, Flatten, Dense\n",
        "from keras.layers import Dropout, Input, BatchNormalization\n",
        "from keras import Model\n",
        "INPUT_SHAPE = (128, 128, 1) # used to define the input size to the model\n",
        "n_output_units = 4\n",
        "activation_fn = 'softmax'\n",
        "mobilenetv2_model = tf.keras.applications.mobilenet_v2.MobileNetV2(include_top=False, weights=None, input_shape=INPUT_SHAPE, pooling='avg')\n",
        "inputs = Input(shape=INPUT_SHAPE, name='input')\n",
        "model_base = mobilenetv2_model(inputs)\n",
        "output = Dense(units=n_output_units, activation=activation_fn)(model_base)\n",
        "cnn = Model(inputs=inputs, outputs=output)\n",
        "cnn.summary()"
      ]
    },
    {
      "cell_type": "code",
      "execution_count": null,
      "metadata": {
        "id": "47b77fe1"
      },
      "outputs": [],
      "source": [
        "cnn.compile(optimizer='adam',loss='categorical_crossentropy',metrics='accuracy')"
      ]
    },
    {
      "cell_type": "code",
      "execution_count": null,
      "metadata": {
        "id": "9243c85b",
        "colab": {
          "base_uri": "https://localhost:8080/"
        },
        "outputId": "eef6c793-71b8-4363-857f-324205dc7e6d"
      },
      "outputs": [
        {
          "output_type": "stream",
          "name": "stdout",
          "text": [
            "Epoch 1/20\n",
            "150/150 [==============================] - 176s 1s/step - loss: 0.0496 - accuracy: 0.9812 - val_loss: 1.1107 - val_accuracy: 0.4919\n",
            "Epoch 2/20\n",
            "150/150 [==============================] - 174s 1s/step - loss: 0.0813 - accuracy: 0.9715 - val_loss: 1.1405 - val_accuracy: 0.4919\n",
            "Epoch 3/20\n",
            "150/150 [==============================] - 175s 1s/step - loss: 0.0551 - accuracy: 0.9815 - val_loss: 1.1561 - val_accuracy: 0.4963\n",
            "Epoch 4/20\n",
            "150/150 [==============================] - 175s 1s/step - loss: 0.0413 - accuracy: 0.9850 - val_loss: 1.2708 - val_accuracy: 0.5188\n",
            "Epoch 5/20\n",
            "150/150 [==============================] - 176s 1s/step - loss: 0.0650 - accuracy: 0.9775 - val_loss: 1.3166 - val_accuracy: 0.4919\n",
            "Epoch 6/20\n",
            "150/150 [==============================] - 175s 1s/step - loss: 0.0646 - accuracy: 0.9769 - val_loss: 1.3230 - val_accuracy: 0.5688\n",
            "Epoch 7/20\n",
            "150/150 [==============================] - 174s 1s/step - loss: 0.0557 - accuracy: 0.9823 - val_loss: 0.9996 - val_accuracy: 0.6506\n",
            "Epoch 8/20\n",
            "150/150 [==============================] - 174s 1s/step - loss: 0.0520 - accuracy: 0.9829 - val_loss: 1.2472 - val_accuracy: 0.6925\n",
            "Epoch 9/20\n",
            "150/150 [==============================] - 173s 1s/step - loss: 0.0373 - accuracy: 0.9867 - val_loss: 1.7503 - val_accuracy: 0.6069\n",
            "Epoch 10/20\n",
            "150/150 [==============================] - 175s 1s/step - loss: 0.0491 - accuracy: 0.9831 - val_loss: 1.6555 - val_accuracy: 0.7125\n",
            "Epoch 11/20\n",
            "150/150 [==============================] - 174s 1s/step - loss: 0.0505 - accuracy: 0.9800 - val_loss: 0.7664 - val_accuracy: 0.8375\n",
            "Epoch 12/20\n",
            "150/150 [==============================] - 176s 1s/step - loss: 0.0531 - accuracy: 0.9837 - val_loss: 1.0870 - val_accuracy: 0.8056\n",
            "Epoch 13/20\n",
            "150/150 [==============================] - 174s 1s/step - loss: 0.0459 - accuracy: 0.9844 - val_loss: 1.6834 - val_accuracy: 0.8119\n",
            "Epoch 14/20\n",
            "150/150 [==============================] - 174s 1s/step - loss: 0.0487 - accuracy: 0.9812 - val_loss: 2.4991 - val_accuracy: 0.7550\n",
            "Epoch 15/20\n",
            "150/150 [==============================] - 175s 1s/step - loss: 0.0590 - accuracy: 0.9800 - val_loss: 2.6232 - val_accuracy: 0.7387\n",
            "Epoch 16/20\n",
            "150/150 [==============================] - 173s 1s/step - loss: 0.0431 - accuracy: 0.9860 - val_loss: 2.3272 - val_accuracy: 0.7800\n",
            "Epoch 17/20\n",
            "150/150 [==============================] - 174s 1s/step - loss: 0.0344 - accuracy: 0.9887 - val_loss: 1.2161 - val_accuracy: 0.8700\n",
            "Epoch 18/20\n",
            "150/150 [==============================] - 173s 1s/step - loss: 0.0630 - accuracy: 0.9796 - val_loss: 4.6082 - val_accuracy: 0.6050\n",
            "Epoch 19/20\n",
            "150/150 [==============================] - 173s 1s/step - loss: 0.0414 - accuracy: 0.9856 - val_loss: 1.2623 - val_accuracy: 0.8438\n",
            "Epoch 20/20\n",
            "150/150 [==============================] - 174s 1s/step - loss: 0.0220 - accuracy: 0.9910 - val_loss: 0.8960 - val_accuracy: 0.8850\n"
          ]
        }
      ],
      "source": [
        "#Train the Convolutional Neural Network on the data\n",
        "history=cnn.fit(X_train,y_train,epochs=20,validation_data=(X_test,y_test))"
      ]
    },
    {
      "cell_type": "code",
      "execution_count": null,
      "metadata": {
        "id": "6d9f71ac"
      },
      "outputs": [],
      "source": [
        "#Get a prediction from the neural network\n",
        "y_pred=cnn.predict(X_test)"
      ]
    },
    {
      "cell_type": "code",
      "execution_count": null,
      "metadata": {
        "id": "aa6808b2"
      },
      "outputs": [],
      "source": [
        "#The prediction is a sequence of 4 probabilities. We choose the label with the highest probability\n",
        "y_val=[]\n",
        "for y in y_pred:\n",
        "    y_val.append(np.argmax(y))"
      ]
    },
    {
      "cell_type": "code",
      "execution_count": null,
      "metadata": {
        "id": "1a027f1e"
      },
      "outputs": [],
      "source": [
        "from sklearn.metrics import confusion_matrix,classification_report"
      ]
    },
    {
      "cell_type": "code",
      "execution_count": null,
      "metadata": {
        "id": "e4314f3a"
      },
      "outputs": [],
      "source": [
        "#Convert back to labels 0-3\n",
        "y_true=[]\n",
        "for y in y_test:\n",
        "    y_true.append(np.argmax(y))"
      ]
    },
    {
      "cell_type": "code",
      "execution_count": null,
      "metadata": {
        "id": "37d6bf2f",
        "colab": {
          "base_uri": "https://localhost:8080/"
        },
        "outputId": "52e17b90-ece5-4ffb-c3e6-806fffb51812"
      },
      "outputs": [
        {
          "output_type": "stream",
          "name": "stdout",
          "text": [
            "[[750  25   3   9]\n",
            " [ 70 480  11  19]\n",
            " [ 23   9 169  13]\n",
            " [  0   2   0  17]]\n"
          ]
        }
      ],
      "source": [
        "#Let's see how the predictions did\n",
        "print(confusion_matrix(y_true,y_val))"
      ]
    },
    {
      "cell_type": "code",
      "execution_count": null,
      "metadata": {
        "id": "89229dee",
        "colab": {
          "base_uri": "https://localhost:8080/"
        },
        "outputId": "acdaa065-8021-4d86-cc77-f29c611e6c03"
      },
      "outputs": [
        {
          "output_type": "stream",
          "name": "stdout",
          "text": [
            "              precision    recall  f1-score   support\n",
            "\n",
            "           0       0.89      0.95      0.92       787\n",
            "           1       0.93      0.83      0.88       580\n",
            "           2       0.92      0.79      0.85       214\n",
            "           3       0.29      0.89      0.44        19\n",
            "\n",
            "    accuracy                           0.89      1600\n",
            "   macro avg       0.76      0.87      0.77      1600\n",
            "weighted avg       0.90      0.89      0.89      1600\n",
            "\n"
          ]
        }
      ],
      "source": [
        "print(classification_report(y_true,y_val))"
      ]
    },
    {
      "cell_type": "code",
      "execution_count": null,
      "metadata": {
        "id": "80305235"
      },
      "outputs": [],
      "source": [
        "from sklearn.metrics import accuracy_score"
      ]
    },
    {
      "cell_type": "code",
      "execution_count": null,
      "metadata": {
        "id": "04c42e22",
        "colab": {
          "base_uri": "https://localhost:8080/"
        },
        "outputId": "6c797d7c-310d-4256-92b6-f1755925e507"
      },
      "outputs": [
        {
          "output_type": "stream",
          "name": "stdout",
          "text": [
            "Accuracy on test data:  0.885\n"
          ]
        }
      ],
      "source": [
        "print(\"Accuracy on test data: \",accuracy_score(y_true,y_val))"
      ]
    }
  ]
}