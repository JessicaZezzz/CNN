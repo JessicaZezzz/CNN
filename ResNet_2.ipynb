{
  "nbformat": 4,
  "nbformat_minor": 0,
  "metadata": {
    "colab": {
      "name": "ResNet_2.ipynb",
      "provenance": [],
      "authorship_tag": "ABX9TyNGa3xyUcjaANsnqzC4l4JW",
      "include_colab_link": true
    },
    "kernelspec": {
      "name": "python3",
      "display_name": "Python 3"
    },
    "language_info": {
      "name": "python"
    },
    "accelerator": "GPU",
    "gpuClass": "standard"
  },
  "cells": [
    {
      "cell_type": "markdown",
      "metadata": {
        "id": "view-in-github",
        "colab_type": "text"
      },
      "source": [
        "<a href=\"https://colab.research.google.com/github/JessicaZezzz/CNN/blob/main/ResNet_2.ipynb\" target=\"_parent\"><img src=\"https://colab.research.google.com/assets/colab-badge.svg\" alt=\"Open In Colab\"/></a>"
      ]
    },
    {
      "cell_type": "code",
      "execution_count": 1,
      "metadata": {
        "colab": {
          "base_uri": "https://localhost:8080/"
        },
        "id": "1s3CSe1MrSqs",
        "outputId": "1d07fcd7-b918-4ea5-bf1e-c333844620aa"
      },
      "outputs": [
        {
          "output_type": "stream",
          "name": "stdout",
          "text": [
            "Mounted at /content/drive/\n"
          ]
        }
      ],
      "source": [
        "from google.colab import drive\n",
        "drive.mount(\"/content/drive/\")"
      ]
    },
    {
      "cell_type": "code",
      "execution_count": 2,
      "metadata": {
        "id": "09a48e5e"
      },
      "outputs": [],
      "source": [
        "# This Python 3 environment comes with many helpful analytics libraries installed\n",
        "# It is defined by the kaggle/python Docker image: https://github.com/kaggle/docker-python\n",
        "# For example, here's several helpful packages to load\n",
        "\n",
        "import numpy as np # linear algebra\n",
        "import pandas as pd # data processing, CSV file I/O (e.g. pd.read_csv)\n",
        "\n",
        "\n",
        "import os"
      ]
    },
    {
      "cell_type": "code",
      "execution_count": 3,
      "metadata": {
        "id": "c159223d"
      },
      "outputs": [],
      "source": [
        "#import libraries to look at the images\n",
        "import matplotlib.pyplot as plt\n",
        "from PIL import Image"
      ]
    },
    {
      "cell_type": "code",
      "execution_count": 4,
      "metadata": {
        "id": "12ff1b50"
      },
      "outputs": [],
      "source": [
        "data_src=\"/content/drive/MyDrive/Dataset_2/\""
      ]
    },
    {
      "cell_type": "markdown",
      "metadata": {
        "id": "7f132fcc"
      },
      "source": [
        "First we load each image into a list, and save the corresponding label in another list"
      ]
    },
    {
      "cell_type": "code",
      "execution_count": 5,
      "metadata": {
        "id": "f563be93"
      },
      "outputs": [],
      "source": [
        "data=[]\n",
        "y=[]\n",
        "for d in os.listdir(data_src):\n",
        "    for file in os.listdir(data_src+d):\n",
        "        data.append(Image.open(data_src+d+'/'+file))\n",
        "        y.append(d)"
      ]
    },
    {
      "cell_type": "markdown",
      "metadata": {
        "id": "b8ffbc49"
      },
      "source": [
        "Convert each image into a numpy array"
      ]
    },
    {
      "cell_type": "code",
      "execution_count": 6,
      "metadata": {
        "id": "278a2bbb"
      },
      "outputs": [],
      "source": [
        "X=[]\n",
        "for im in data:\n",
        "    X.append(np.array(im))"
      ]
    },
    {
      "cell_type": "code",
      "execution_count": 7,
      "metadata": {
        "id": "85e6fd8b"
      },
      "outputs": [],
      "source": [
        "#Convert the list of data into an array\n",
        "X=np.array(X)"
      ]
    },
    {
      "cell_type": "code",
      "execution_count": 8,
      "metadata": {
        "colab": {
          "base_uri": "https://localhost:8080/"
        },
        "id": "66ba5e5f",
        "outputId": "97508f40-fd49-4c52-de0b-1dfcdd0216e5"
      },
      "outputs": [
        {
          "output_type": "execute_result",
          "data": {
            "text/plain": [
              "(6400, 128, 128)"
            ]
          },
          "metadata": {},
          "execution_count": 8
        }
      ],
      "source": [
        "X.shape"
      ]
    },
    {
      "cell_type": "code",
      "execution_count": 9,
      "metadata": {
        "id": "3463c489"
      },
      "outputs": [],
      "source": [
        "#Divide by 255 to standardize the values between 0 and 1\n",
        "X=X/255"
      ]
    },
    {
      "cell_type": "code",
      "execution_count": 10,
      "metadata": {
        "id": "cb940364"
      },
      "outputs": [],
      "source": [
        "from sklearn.model_selection import train_test_split"
      ]
    },
    {
      "cell_type": "code",
      "execution_count": 11,
      "metadata": {
        "id": "28fbba69"
      },
      "outputs": [],
      "source": [
        "from tensorflow.keras.models import Sequential\n",
        "from tensorflow.keras.layers import Dense,Conv2D,MaxPooling2D,Flatten\n",
        "from tensorflow.keras.utils import to_categorical"
      ]
    },
    {
      "cell_type": "code",
      "execution_count": 12,
      "metadata": {
        "colab": {
          "base_uri": "https://localhost:8080/"
        },
        "id": "d0c7c561",
        "outputId": "b41e3dbf-a4fd-4a39-912d-d7e7f7d04b3f"
      },
      "outputs": [
        {
          "output_type": "stream",
          "name": "stdout",
          "text": [
            "Non Demented:  3200\n",
            "Very Mild:  2240\n",
            "Moderate:  64\n",
            "Mild : 896\n"
          ]
        }
      ],
      "source": [
        "#Let's count how many of each category we have\n",
        "non=0\n",
        "mild=0\n",
        "mod=0\n",
        "vm=0\n",
        "for cat in y:\n",
        "    if cat==\"Mild_Demented\":\n",
        "        mild+=1\n",
        "    elif cat==\"Moderate_Demented\":\n",
        "        mod+=1\n",
        "    elif cat==\"Non_Demented\":\n",
        "        non+=1\n",
        "    else:\n",
        "        vm+=1\n",
        "print(\"Non Demented: \",non)\n",
        "print(\"Very Mild: \",vm)\n",
        "print(\"Moderate: \",mod)\n",
        "print(\"Mild :\",mild)"
      ]
    },
    {
      "cell_type": "code",
      "execution_count": 13,
      "metadata": {
        "id": "8abd1459"
      },
      "outputs": [],
      "source": [
        "#Now we change these values to numerical ones so that we can use to_categorical\n",
        "#0 will be non, 1 will be very mild, 2 will be mild, 3 will be moderate\n",
        "y_num=[]\n",
        "for cat in y:\n",
        "    if cat==\"Mild_Demented\":\n",
        "        y_num.append(2)\n",
        "    elif cat==\"Moderate_Demented\":\n",
        "        y_num.append(3)\n",
        "    elif cat==\"Non_Demented\":\n",
        "        y_num.append(0)\n",
        "    else:\n",
        "        y_num.append(1)"
      ]
    },
    {
      "cell_type": "code",
      "execution_count": 14,
      "metadata": {
        "id": "1e15c539"
      },
      "outputs": [],
      "source": [
        "#convert to a categorical target as expected by keras\n",
        "y=to_categorical(y_num)"
      ]
    },
    {
      "cell_type": "code",
      "execution_count": 15,
      "metadata": {
        "colab": {
          "base_uri": "https://localhost:8080/"
        },
        "id": "98820252",
        "outputId": "b39d137c-78d6-4beb-cb32-ce00951a23d9"
      },
      "outputs": [
        {
          "output_type": "execute_result",
          "data": {
            "text/plain": [
              "(6400, 4)"
            ]
          },
          "metadata": {},
          "execution_count": 15
        }
      ],
      "source": [
        "y.shape"
      ]
    },
    {
      "cell_type": "code",
      "execution_count": 16,
      "metadata": {
        "id": "edd022c6"
      },
      "outputs": [],
      "source": [
        "#Reshape to use in a neural network\n",
        "X=X.reshape(6400,128,128,1)"
      ]
    },
    {
      "cell_type": "code",
      "execution_count": 17,
      "metadata": {
        "id": "28a72bc9"
      },
      "outputs": [],
      "source": [
        "#Split into a training set and test set\n",
        "X_train,X_test,y_train,y_test=train_test_split(X,y,test_size=0.25,random_state=42)"
      ]
    },
    {
      "cell_type": "code",
      "execution_count": 18,
      "metadata": {
        "colab": {
          "base_uri": "https://localhost:8080/"
        },
        "id": "3220b110",
        "outputId": "5ae5fac6-5e33-41bf-afd1-99b55f4a6ab0"
      },
      "outputs": [
        {
          "output_type": "stream",
          "name": "stdout",
          "text": [
            "(4800, 128, 128, 1) (1600, 128, 128, 1) (4800, 4) (1600, 4)\n"
          ]
        }
      ],
      "source": [
        "print(X_train.shape,X_test.shape,y_train.shape,y_test.shape)"
      ]
    },
    {
      "cell_type": "code",
      "execution_count": 19,
      "metadata": {
        "id": "XD_bhKybCO6C"
      },
      "outputs": [],
      "source": [
        "import numpy as np\n",
        "import pandas as pd\n",
        "import matplotlib.pyplot as plt\n",
        "import seaborn as sn\n",
        "import skimage.io\n",
        "import os \n",
        "import tqdm\n",
        "import glob\n",
        "import tensorflow \n",
        "\n",
        "from tqdm import tqdm\n",
        "from sklearn.utils import shuffle\n",
        "from sklearn import metrics\n",
        "from sklearn.metrics import confusion_matrix, classification_report\n",
        "from sklearn.model_selection import train_test_split\n",
        "\n",
        "from skimage.io import imread, imshow\n",
        "from skimage.transform import resize\n",
        "from skimage.color import grey2rgb\n",
        "\n",
        "import tensorflow as tf\n",
        "from tensorflow.keras.preprocessing.image import ImageDataGenerator\n",
        "from tensorflow.keras.preprocessing import image_dataset_from_directory\n",
        "from tensorflow.keras.models import Sequential\n",
        "from tensorflow.keras.layers import InputLayer, BatchNormalization, Dropout, Flatten, Dense, Activation, MaxPool2D, Conv2D\n",
        "from tensorflow.keras.callbacks import EarlyStopping, ModelCheckpoint"
      ]
    },
    {
      "cell_type": "code",
      "execution_count": 20,
      "metadata": {
        "id": "SlRbEO824awq"
      },
      "outputs": [],
      "source": [
        "from tensorflow.keras.applications.vgg16 import VGG16 # VGG16\n",
        "from tensorflow.keras.applications.vgg19 import VGG19 # VGG19\n",
        "from tensorflow.keras.applications.resnet50 import ResNet50 # ResNet50\n",
        "from tensorflow.keras.applications.xception import Xception # Xception\n",
        "from tensorflow.keras.applications.mobilenet import MobileNet # MobileNet\n",
        "from tensorflow.keras.applications.nasnet import NASNetMobile # NASNetMobile\n",
        "from tensorflow.keras.applications.densenet import DenseNet169 # DenseNet169\n",
        "from tensorflow.keras.applications.densenet import DenseNet121 # DenseNet121\n",
        "from tensorflow.keras.applications.mobilenet_v2 import MobileNetV2 # MobileNetV2\n",
        "from tensorflow.keras.applications.inception_v3 import InceptionV3\n",
        "from tensorflow.keras.utils import to_categorical\n",
        "from keras import optimizers\n",
        "\n",
        "from keras.callbacks import Callback,ModelCheckpoint\n",
        "from keras.models import Sequential,load_model\n",
        "from keras.layers import Dense, Dropout\n",
        "from keras.wrappers.scikit_learn import KerasClassifier\n",
        "import keras.backend as K\n",
        "from typeguard import typechecked\n",
        "from typing import Optional"
      ]
    },
    {
      "cell_type": "code",
      "execution_count": 21,
      "metadata": {
        "colab": {
          "base_uri": "https://localhost:8080/"
        },
        "id": "AyLPdCxFcKVV",
        "outputId": "54cd16a9-09fb-4849-f3f6-1d0e7645c5a2"
      },
      "outputs": [
        {
          "output_type": "stream",
          "name": "stdout",
          "text": [
            "Model: \"model\"\n",
            "_________________________________________________________________\n",
            " Layer (type)                Output Shape              Param #   \n",
            "=================================================================\n",
            " input (InputLayer)          [(None, 128, 128, 1)]     0         \n",
            "                                                                 \n",
            " resnet101 (Functional)      (None, 2048)              42651904  \n",
            "                                                                 \n",
            " dense (Dense)               (None, 4)                 8196      \n",
            "                                                                 \n",
            "=================================================================\n",
            "Total params: 42,660,100\n",
            "Trainable params: 42,554,756\n",
            "Non-trainable params: 105,344\n",
            "_________________________________________________________________\n"
          ]
        }
      ],
      "source": [
        "import keras\n",
        "from keras import applications\n",
        "from keras.layers import Conv3D, MaxPool3D, Flatten, Dense\n",
        "from keras.layers import Dropout, Input, BatchNormalization\n",
        "from keras import Model\n",
        "INPUT_SHAPE = (128, 128, 1) # used to define the input size to the model\n",
        "n_output_units = 4\n",
        "activation_fn = 'softmax'\n",
        "resnet_101_model = tf.keras.applications.resnet.ResNet101(include_top=False, weights=None, input_shape=INPUT_SHAPE, pooling='avg')\n",
        "inputs = Input(shape=INPUT_SHAPE, name='input')\n",
        "model_base = resnet_101_model(inputs)\n",
        "output = Dense(units=n_output_units, activation=activation_fn)(model_base)\n",
        "cnn = Model(inputs=inputs, outputs=output)\n",
        "cnn.summary()"
      ]
    },
    {
      "cell_type": "code",
      "execution_count": 22,
      "metadata": {
        "id": "47b77fe1"
      },
      "outputs": [],
      "source": [
        "cnn.compile(optimizer='adam',loss='categorical_crossentropy',metrics='accuracy')"
      ]
    },
    {
      "cell_type": "code",
      "execution_count": 52,
      "metadata": {
        "id": "9243c85b",
        "colab": {
          "base_uri": "https://localhost:8080/"
        },
        "outputId": "8649d535-d9e5-4ada-8b85-f38fffd74392"
      },
      "outputs": [
        {
          "output_type": "stream",
          "name": "stdout",
          "text": [
            "Epoch 1/20\n",
            "150/150 [==============================] - 38s 254ms/step - loss: 0.0495 - accuracy: 0.9856 - val_loss: 58.6932 - val_accuracy: 0.4369\n",
            "Epoch 2/20\n",
            "150/150 [==============================] - 36s 239ms/step - loss: 0.4855 - accuracy: 0.8210 - val_loss: 385.0113 - val_accuracy: 0.4744\n",
            "Epoch 3/20\n",
            "150/150 [==============================] - 38s 251ms/step - loss: 0.4758 - accuracy: 0.8112 - val_loss: 0.4001 - val_accuracy: 0.8363\n",
            "Epoch 4/20\n",
            "150/150 [==============================] - 38s 252ms/step - loss: 0.1564 - accuracy: 0.9442 - val_loss: 0.4202 - val_accuracy: 0.8681\n",
            "Epoch 5/20\n",
            "150/150 [==============================] - 38s 252ms/step - loss: 0.0765 - accuracy: 0.9725 - val_loss: 0.3072 - val_accuracy: 0.9081\n",
            "Epoch 6/20\n",
            "150/150 [==============================] - 38s 252ms/step - loss: 0.0559 - accuracy: 0.9808 - val_loss: 0.1570 - val_accuracy: 0.9594\n",
            "Epoch 7/20\n",
            "150/150 [==============================] - 36s 239ms/step - loss: 0.0280 - accuracy: 0.9931 - val_loss: 0.1763 - val_accuracy: 0.9544\n",
            "Epoch 8/20\n",
            "150/150 [==============================] - 38s 252ms/step - loss: 0.0306 - accuracy: 0.9892 - val_loss: 0.4036 - val_accuracy: 0.8944\n",
            "Epoch 9/20\n",
            "150/150 [==============================] - 36s 240ms/step - loss: 0.0427 - accuracy: 0.9867 - val_loss: 0.1130 - val_accuracy: 0.9619\n",
            "Epoch 10/20\n",
            "150/150 [==============================] - 38s 252ms/step - loss: 0.0164 - accuracy: 0.9937 - val_loss: 0.1320 - val_accuracy: 0.9619\n",
            "Epoch 11/20\n",
            "150/150 [==============================] - 38s 252ms/step - loss: 0.0039 - accuracy: 0.9992 - val_loss: 0.1330 - val_accuracy: 0.9681\n",
            "Epoch 12/20\n",
            "150/150 [==============================] - 36s 240ms/step - loss: 0.0486 - accuracy: 0.9819 - val_loss: 0.2920 - val_accuracy: 0.9194\n",
            "Epoch 13/20\n",
            "150/150 [==============================] - 38s 252ms/step - loss: 0.0292 - accuracy: 0.9904 - val_loss: 0.3159 - val_accuracy: 0.9144\n",
            "Epoch 14/20\n",
            "150/150 [==============================] - 38s 252ms/step - loss: 0.0284 - accuracy: 0.9904 - val_loss: 0.0725 - val_accuracy: 0.9800\n",
            "Epoch 15/20\n",
            "150/150 [==============================] - 38s 252ms/step - loss: 0.0043 - accuracy: 0.9985 - val_loss: 0.0829 - val_accuracy: 0.9775\n",
            "Epoch 16/20\n",
            "150/150 [==============================] - 36s 240ms/step - loss: 0.0015 - accuracy: 0.9998 - val_loss: 0.0657 - val_accuracy: 0.9819\n",
            "Epoch 17/20\n",
            "150/150 [==============================] - 38s 252ms/step - loss: 0.0021 - accuracy: 0.9992 - val_loss: 0.1338 - val_accuracy: 0.9656\n",
            "Epoch 18/20\n",
            "150/150 [==============================] - 36s 240ms/step - loss: 0.0305 - accuracy: 0.9917 - val_loss: 5.8627 - val_accuracy: 0.6350\n",
            "Epoch 19/20\n",
            "150/150 [==============================] - 36s 240ms/step - loss: 0.0540 - accuracy: 0.9827 - val_loss: 0.2787 - val_accuracy: 0.9244\n",
            "Epoch 20/20\n",
            "150/150 [==============================] - 36s 240ms/step - loss: 0.0757 - accuracy: 0.9729 - val_loss: 0.4812 - val_accuracy: 0.8606\n"
          ]
        }
      ],
      "source": [
        "#Train the Convolutional Neural Network on the data\n",
        "history=cnn.fit(X_train,y_train,epochs=20,validation_data=(X_test,y_test))"
      ]
    },
    {
      "cell_type": "code",
      "execution_count": 53,
      "metadata": {
        "id": "6d9f71ac"
      },
      "outputs": [],
      "source": [
        "#Get a prediction from the neural network\n",
        "y_pred=cnn.predict(X_test)"
      ]
    },
    {
      "cell_type": "code",
      "execution_count": 54,
      "metadata": {
        "id": "aa6808b2"
      },
      "outputs": [],
      "source": [
        "#The prediction is a sequence of 4 probabilities. We choose the label with the highest probability\n",
        "y_val=[]\n",
        "for y in y_pred:\n",
        "    y_val.append(np.argmax(y))"
      ]
    },
    {
      "cell_type": "code",
      "execution_count": 55,
      "metadata": {
        "id": "1a027f1e"
      },
      "outputs": [],
      "source": [
        "from sklearn.metrics import confusion_matrix,classification_report"
      ]
    },
    {
      "cell_type": "code",
      "execution_count": 56,
      "metadata": {
        "id": "e4314f3a"
      },
      "outputs": [],
      "source": [
        "#Convert back to labels 0-3\n",
        "y_true=[]\n",
        "for y in y_test:\n",
        "    y_true.append(np.argmax(y))"
      ]
    },
    {
      "cell_type": "code",
      "execution_count": 57,
      "metadata": {
        "id": "37d6bf2f",
        "colab": {
          "base_uri": "https://localhost:8080/"
        },
        "outputId": "84e0949c-697e-46dd-beee-613e1354b1e7"
      },
      "outputs": [
        {
          "output_type": "stream",
          "name": "stdout",
          "text": [
            "[[685  41  45  16]\n",
            " [ 28 465  71  16]\n",
            " [  4   0 208   2]\n",
            " [  0   0   0  19]]\n"
          ]
        }
      ],
      "source": [
        "#Let's see how the predictions did\n",
        "print(confusion_matrix(y_true,y_val))"
      ]
    },
    {
      "cell_type": "code",
      "execution_count": 58,
      "metadata": {
        "id": "89229dee",
        "colab": {
          "base_uri": "https://localhost:8080/"
        },
        "outputId": "cfb40f6b-136e-4418-f77f-173a0e7c70b8"
      },
      "outputs": [
        {
          "output_type": "stream",
          "name": "stdout",
          "text": [
            "              precision    recall  f1-score   support\n",
            "\n",
            "           0       0.96      0.87      0.91       787\n",
            "           1       0.92      0.80      0.86       580\n",
            "           2       0.64      0.97      0.77       214\n",
            "           3       0.36      1.00      0.53        19\n",
            "\n",
            "    accuracy                           0.86      1600\n",
            "   macro avg       0.72      0.91      0.77      1600\n",
            "weighted avg       0.89      0.86      0.87      1600\n",
            "\n"
          ]
        }
      ],
      "source": [
        "print(classification_report(y_true,y_val))"
      ]
    },
    {
      "cell_type": "code",
      "execution_count": 59,
      "metadata": {
        "id": "80305235"
      },
      "outputs": [],
      "source": [
        "from sklearn.metrics import accuracy_score"
      ]
    },
    {
      "cell_type": "code",
      "execution_count": 60,
      "metadata": {
        "id": "04c42e22",
        "colab": {
          "base_uri": "https://localhost:8080/"
        },
        "outputId": "c0389aa7-f823-4548-dc07-5636f5cc237d"
      },
      "outputs": [
        {
          "output_type": "stream",
          "name": "stdout",
          "text": [
            "Accuracy on test data:  0.860625\n"
          ]
        }
      ],
      "source": [
        "print(\"Accuracy on test data: \",accuracy_score(y_true,y_val))"
      ]
    }
  ]
}